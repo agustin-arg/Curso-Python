{
 "cells": [
  {
   "cell_type": "markdown",
   "id": "a245e5ae",
   "metadata": {},
   "source": [
    "Crear un nuevo archivo y asignarlo a una variable"
   ]
  },
  {
   "cell_type": "markdown",
   "id": "360540cc",
   "metadata": {},
   "source": [
    "## Ejemplo 1: Creación y escritura básica de archivos\n",
    "\n",
    "Este código demuestra cómo:\n",
    "- Crear un archivo en modo 'append' (agregar al final)\n",
    "- Escribir texto en el archivo\n",
    "- Leer el contenido del archivo\n",
    "- Cerrar los archivos correctamente"
   ]
  },
  {
   "cell_type": "code",
   "execution_count": 12,
   "id": "ae0cc8ab",
   "metadata": {},
   "outputs": [
    {
     "name": "stdout",
     "output_type": "stream",
     "text": [
      "holaaaaaholaaaaaholaaaaaholaaaaaholaaaaaholaaaaa\n"
     ]
    }
   ],
   "source": [
    "newFile = open('archivo_prueba1.txt',mode='a')\n",
    "newFile.write('holaaaaa')\n",
    "leer = open('archivo_prueba1.txt',mode='r')\n",
    "print(leer.read())\n",
    "newFile.close()\n",
    "leer.close()"
   ]
  },
  {
   "cell_type": "markdown",
   "id": "c146f641",
   "metadata": {},
   "source": [
    "## Ejemplo 2: Modo 'w+' y navegación en archivos\n",
    "\n",
    "Este código muestra cómo:\n",
    "- Usar el modo 'w+' (escribir y leer)\n",
    "- Navegar por el archivo usando `seek()` para posicionar el cursor\n",
    "- Usar `tell()` para obtener la posición actual del cursor\n",
    "- Leer desde diferentes posiciones del archivo\n",
    "- Obtener el último carácter de diferentes maneras"
   ]
  },
  {
   "cell_type": "code",
   "execution_count": 35,
   "id": "814b29c9",
   "metadata": {},
   "outputs": [
    {
     "name": "stdout",
     "output_type": "stream",
     "text": [
      "hola mundo1\n",
      "ola mundo1\n",
      "1\n",
      "1\n"
     ]
    }
   ],
   "source": [
    "newFile = open('archivo_prueba2.txt','w+')\n",
    "newFile.write('hola mundo1')\n",
    "newFile.seek(0)\n",
    "print(newFile.read())#Leer todo\n",
    "newFile.seek(1,0)\n",
    "print(newFile.read())#avanzar un bit y leer\n",
    "newFile.seek(0,2)\n",
    "posicion = newFile.tell() - 1\n",
    "newFile.seek(posicion,0) #leer el ultimo caracter\n",
    "print(newFile.read())\n",
    "newFile.seek(0)\n",
    "todo = newFile.read()\n",
    "ultimoCaracter = todo[-1]\n",
    "print(ultimoCaracter) #otra opcion de leer el último carácter\n",
    "newFile.close()"
   ]
  },
  {
   "cell_type": "markdown",
   "id": "3e255128",
   "metadata": {},
   "source": [
    "## Ejemplo 3: Uso de 'with' para manejo seguro de archivos\n",
    "\n",
    "Este código demuestra:\n",
    "- Usar la declaración `with` para manejo automático de archivos (se cierra automáticamente)\n",
    "- Verificar si el archivo termina con un salto de línea\n",
    "- Agregar un salto de línea si no existe\n",
    "- Escribir al final del archivo\n",
    "- Leer todo el contenido del archivo"
   ]
  },
  {
   "cell_type": "code",
   "execution_count": 25,
   "id": "9e26f65a",
   "metadata": {},
   "outputs": [
    {
     "name": "stdout",
     "output_type": "stream",
     "text": [
      "\n",
      " el susurro del viento viajan suenos olvidados,\n",
      "danzan las hojas bajo un cielo de esperanza,\n",
      "y en cada rincon del silencio florece la promesa de un nuevo dia,\n",
      "donde la luz abraza suavemente los anhelos del corazon.\n",
      "fin\n"
     ]
    }
   ],
   "source": [
    "with open('archivo_prueba3.txt',mode='r+') as file:\n",
    "    file.seek(0)\n",
    "    ultcaract = file.read()\n",
    "    if ultcaract[-1] != '\\n':\n",
    "        file.seek(0,2)\n",
    "        file.write('\\n')\n",
    "    file.seek(0,2)\n",
    "    file.write('fin')\n",
    "    file.seek(0)\n",
    "    print(file.read())\n",
    "    "
   ]
  },
  {
   "cell_type": "code",
   "execution_count": null,
   "id": "2e8946df",
   "metadata": {},
   "outputs": [],
   "source": []
  }
 ],
 "metadata": {
  "kernelspec": {
   "display_name": "Python 3",
   "language": "python",
   "name": "python3"
  },
  "language_info": {
   "codemirror_mode": {
    "name": "ipython",
    "version": 3
   },
   "file_extension": ".py",
   "mimetype": "text/x-python",
   "name": "python",
   "nbconvert_exporter": "python",
   "pygments_lexer": "ipython3",
   "version": "3.12.4"
  }
 },
 "nbformat": 4,
 "nbformat_minor": 5
}
