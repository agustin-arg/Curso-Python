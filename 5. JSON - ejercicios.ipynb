{
 "cells": [
  {
   "cell_type": "markdown",
   "id": "229779f4",
   "metadata": {},
   "source": [
    "#### Ejercicio 1: json.dumps – Convertir diccionario a texto JSON\n",
    "\n",
    "Crea un diccionario llamado `persona` con las claves: \"nombre\", \"edad\" y \"ciudad\". Convierte este diccionario a un string en formato JSON usando `json.dumps`. Mostrá el resultado por pantalla."
   ]
  },
  {
   "cell_type": "code",
   "execution_count": null,
   "id": "5ab7e21d",
   "metadata": {},
   "outputs": [
    {
     "name": "stdout",
     "output_type": "stream",
     "text": [
      "{\"nombre\": \"alfredo\", \"old\": \"twelve\", \"city\": \"Mortero\"}\n"
     ]
    }
   ],
   "source": [
    "import json\n",
    "persona = {'name':\"alfredo\", 'old': 'twelve','city':'Mortero'}\n",
    "date = json.dumps(persona)\n",
    "print(date)"
   ]
  },
  {
   "cell_type": "markdown",
   "id": "cf9d2122",
   "metadata": {},
   "source": [
    "#### Ejercicio 2: json.loads – Convertir texto JSON a variable\n",
    "\n",
    "Dado el string JSON:\n",
    "```python\n",
    "json_str = '{\"producto\": \"laptop\", \"precio\": 1200, \"stock\": 15}'\n",
    "```\n",
    "Convertí este string a una variable de tipo diccionario usando `json.loads`. Mostrá el valor de la clave \"precio\"."
   ]
  },
  {
   "cell_type": "code",
   "execution_count": null,
   "id": "5a7c00fe",
   "metadata": {},
   "outputs": [
    {
     "name": "stdout",
     "output_type": "stream",
     "text": [
      "1200\n"
     ]
    }
   ],
   "source": [
    "import json\n",
    "json_str = '{\"producto\": \"laptop\", \"precio\": 1200, \"stock\": 15}'\n",
    "precioDict = json.loads(json_str)\n",
    "print(date['precio'])"
   ]
  },
  {
   "cell_type": "markdown",
   "id": "6e53f55b",
   "metadata": {},
   "source": [
    "#### Ejercicio 3: json.dump – Guardar datos en archivo JSON\n",
    "\n",
    "Armá una lista con varios diccionarios, cada uno representando una mascota (con las claves \"nombre\", \"tipo\" y \"edad\"). Guardá esta lista en un archivo llamado `mascotas.json` usando `json.dump`. Recordá abrir el archivo en modo escritura."
   ]
  },
  {
   "cell_type": "code",
   "execution_count": null,
   "id": "d060b9b4",
   "metadata": {},
   "outputs": [],
   "source": [
    "import json\n",
    "pets = [{'name':'monono','type':'cat','old':'one year old'},{'name':'corazon','type':'dog','old':'2 year old'},{'name':'apa','type':'horse','old':'one month old'}]\n",
    "with open('ejercicio3.json',mode='w') as file:\n",
    "    writeFile = json.dump(pets,file,indent=4)\n",
    "    #se podria solo haber usado:\n",
    "    # with open('ejercicio3.json', mode='w') as file: \n",
    "    #  json.dump(pets, file, indent=4) <- no era necesario usar una variable"
   ]
  },
  {
   "cell_type": "markdown",
   "id": "2ce5086a",
   "metadata": {},
   "source": [
    "#### Ejercicio 4: json.load – Leer datos de archivo JSON\n",
    "\n",
    "Abrí el archivo `mascotas.json` que generaste en el ejercicio anterior y leelo con `json.load`. Mostrá por pantalla el nombre de la última mascota que aparece en el archivo."
   ]
  },
  {
   "cell_type": "code",
   "execution_count": null,
   "id": "3040a5fc",
   "metadata": {},
   "outputs": [
    {
     "name": "stdout",
     "output_type": "stream",
     "text": [
      "apa\n"
     ]
    }
   ],
   "source": [
    "import json\n",
    "with open('ejercicio3.json',mode='r') as file:\n",
    "    pets = json.load(file)\n",
    "    lastPet = pets[len(pets)-1]\n",
    "    print(lastPet['name'])\n",
    "#se podria haber usado directamente print(pets[-1]['name'])"
   ]
  },
  {
   "cell_type": "markdown",
   "id": "a1b9c784",
   "metadata": {},
   "source": [
    "#### Ejercicio 5: Actividad integrada – Gestión básica de inventario\n",
    "\n",
    "Plantea el siguiente problema:  \n",
    "Tenés que crear un programa que permita agregar productos a un inventario, guardar ese inventario en un archivo JSON y luego cargarlo para mostrar solo los productos cuyo stock sea mayor a 5.\n",
    "\n",
    "**No se indica qué métodos usar:**  \n",
    "Decidí vos cómo resolverlo usando lo que aprendiste sobre la librería json y manejo de archivos."
   ]
  },
  {
   "cell_type": "code",
   "execution_count": null,
   "id": "0aa3e19d",
   "metadata": {},
   "outputs": [],
   "source": []
  }
 ],
 "metadata": {
  "kernelspec": {
   "display_name": "Python 3",
   "language": "python",
   "name": "python3"
  },
  "language_info": {
   "codemirror_mode": {
    "name": "ipython",
    "version": 3
   },
   "file_extension": ".py",
   "mimetype": "text/x-python",
   "name": "python",
   "nbconvert_exporter": "python",
   "pygments_lexer": "ipython3",
   "version": "3.12.4"
  }
 },
 "nbformat": 4,
 "nbformat_minor": 5
}
