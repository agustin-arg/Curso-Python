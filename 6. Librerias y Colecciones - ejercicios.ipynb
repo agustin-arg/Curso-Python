{
 "cells": [
  {
   "cell_type": "markdown",
   "id": "73a50bb9",
   "metadata": {},
   "source": [
    "#### Ejercicio 1: Archivos aleatorios y tuplas con OS y RANDOM\n",
    "\n",
    "**Consigna:**  \n",
    "Crea un programa que haga lo siguiente:\n",
    "1. Use `os.getcwd()` para imprimir el directorio donde se ejecuta el script.\n",
    "2. Use `os.listdir()` para obtener una lista de los archivos en el directorio y conviértela en una tupla.\n",
    "3. Usa `random.choice()` para seleccionar un archivo aleatorio de esa tupla.\n",
    "4. Usa el método `.count()` de tupla para contar cuántas veces aparece el archivo seleccionado (debería ser 1 si no hay repetidos).\n",
    "5. Imprime la tupla de archivos, el archivo elegido y cuántas veces aparece."
   ]
  },
  {
   "cell_type": "code",
   "execution_count": 14,
   "id": "095f08ee",
   "metadata": {},
   "outputs": [
    {
     "name": "stdout",
     "output_type": "stream",
     "text": [
      " EL directorio donde se esta ejecutando es: c:\\Users\\agust\\Documents\\Curso Platzy\\curso-python\n",
      " EL archivo seleccionado es: 1. python_fundamentosBasicos.ipynb\n",
      "       y aparece 1 vez\n"
     ]
    }
   ],
   "source": [
    "import os\n",
    "import random\n",
    "print(f' EL directorio donde se esta ejecutando es: {os.getcwd()}')\n",
    "tupleFile = tuple(os.listdir('.'))\n",
    "chosenFile = random.choice(tupleFile)\n",
    "print(f''' EL archivo seleccionado es: {chosenFile}\n",
    "       y aparece {tupleFile.count(chosenFile)} vez''')"
   ]
  },
  {
   "cell_type": "markdown",
   "id": "546dc2da",
   "metadata": {},
   "source": [
    "#### Ejercicio 2: Tuplas, conjuntos y math con números aleatorios\n",
    "\n",
    "**Consigna:**  \n",
    "1. Genera una tupla de 10 números enteros aleatorios entre 1 y 20 (usa `random.randint`).\n",
    "2. Convierte la tupla a un conjunto y muestra ambos (así ves la diferencia entre tupla y set).\n",
    "3. Usando el método `.index()` de las tuplas, muestra el índice de la primera aparición del número más grande de la tupla.\n",
    "4. Usa `math.sqrt()` y `math.pow()` para calcular la raíz cuadrada y el cuadrado del número más pequeño de la tupla.\n",
    "5. Imprime todos los resultados."
   ]
  },
  {
   "cell_type": "code",
   "execution_count": 34,
   "id": "fa9056f0",
   "metadata": {},
   "outputs": [
    {
     "name": "stdout",
     "output_type": "stream",
     "text": [
      "Tupla: (2, 15, 18, 6, 15, 7, 20, 10, 13, 15)\n",
      "Tupla convertida en conjunto: {2, 6, 7, 10, 13, 15, 18, 20}\n",
      "EL número mas grande esta en la posición: 6\n",
      "EL número mas pequeño es 2, su raíz cuadrada es 1.4142135623730951 y el cuadrado es 4\n"
     ]
    }
   ],
   "source": [
    "import random\n",
    "import math\n",
    "tuplerandom = (random.randint(1,20),random.randint(1,20),random.randint(1,20),random.randint(1,20),random.randint(1,20),random.randint(1,20),random.randint(1,20),random.randint(1,20),random.randint(1,20),random.randint(1,20))\n",
    "print('Tupla:',(tuplerandom))\n",
    "setnew = set(tuplerandom)\n",
    "print('Tupla convertida en conjunto:',(setnew))\n",
    "print('EL número mas grande esta en la posición:',(tuplerandom.index(max(tuplerandom))))\n",
    "numPeq = min(tuplerandom)\n",
    "print(f'EL número mas pequeño es {numPeq}, su raíz cuadrada es {math.sqrt(numPeq)} y el cuadrado es {int(math.pow(numPeq,2))}')\n",
    "\n"
   ]
  },
  {
   "cell_type": "markdown",
   "id": "e21e422f",
   "metadata": {},
   "source": [
    "#### Ejercicio 3: Gestión de directorios y conjuntos de nombres\n",
    "\n",
    "**Consigna:**  \n",
    "1. Usa `os.listdir()` para obtener los archivos/carpetas de tu directorio actual.\n",
    "2. Convierte esa lista en un conjunto.\n",
    "3. Pídele al usuario que ingrese el nombre de un archivo o carpeta.\n",
    "4. Verifica si existe usando el set y usando `os.path.exists()`, y avísale al usuario si existe o no.\n",
    "5. Si no existe, crea un nuevo directorio con ese nombre (`os.mkdir`)."
   ]
  },
  {
   "cell_type": "code",
   "execution_count": null,
   "id": "0fc4fd4a",
   "metadata": {},
   "outputs": [],
   "source": []
  },
  {
   "cell_type": "markdown",
   "id": "8cc683f6",
   "metadata": {},
   "source": [
    "#### Ejercicio 4: Trivias matemáticas con random, tuplas y math\n",
    "\n",
    "**Consigna:**  \n",
    "1. Tienes una tupla con 5 números enteros aleatorios entre 1 y 100.\n",
    "2. Usa `random.sample()` para elegir 2 números distintos de la tupla.\n",
    "3. Calcula el máximo común divisor (MCD) y el mínimo común múltiplo (MCM) usando `math.gcd()` y `math.lcm()` de esos dos números.\n",
    "4. Guarda los dos números y sus resultados en un set como tuplas de la forma `(a, b, gcd, lcm)`.\n",
    "5. Imprime la tupla original, los dos elegidos y el set con los cálculos."
   ]
  },
  {
   "cell_type": "code",
   "execution_count": null,
   "id": "a18afc46",
   "metadata": {},
   "outputs": [],
   "source": []
  }
 ],
 "metadata": {
  "kernelspec": {
   "display_name": "Python 3",
   "language": "python",
   "name": "python3"
  },
  "language_info": {
   "codemirror_mode": {
    "name": "ipython",
    "version": 3
   },
   "file_extension": ".py",
   "mimetype": "text/x-python",
   "name": "python",
   "nbconvert_exporter": "python",
   "pygments_lexer": "ipython3",
   "version": "3.12.4"
  }
 },
 "nbformat": 4,
 "nbformat_minor": 5
}
