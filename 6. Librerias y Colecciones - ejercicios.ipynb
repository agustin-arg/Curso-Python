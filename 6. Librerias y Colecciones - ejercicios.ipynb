{
 "cells": [
  {
   "cell_type": "markdown",
   "id": "73a50bb9",
   "metadata": {},
   "source": [
    "#### Ejercicio 1: Archivos aleatorios y tuplas con OS y RANDOM\n",
    "\n",
    "**Consigna:**  \n",
    "Crea un programa que haga lo siguiente:\n",
    "1. Use `os.getcwd()` para imprimir el directorio donde se ejecuta el script.\n",
    "2. Use `os.listdir()` para obtener una lista de los archivos en el directorio y conviértela en una tupla.\n",
    "3. Usa `random.choice()` para seleccionar un archivo aleatorio de esa tupla.\n",
    "4. Usa el método `.count()` de tupla para contar cuántas veces aparece el archivo seleccionado (debería ser 1 si no hay repetidos).\n",
    "5. Imprime la tupla de archivos, el archivo elegido y cuántas veces aparece."
   ]
  },
  {
   "cell_type": "code",
   "execution_count": null,
   "id": "095f08ee",
   "metadata": {
    "vscode": {
     "languageId": "plaintext"
    }
   },
   "outputs": [],
   "source": []
  },
  {
   "cell_type": "markdown",
   "id": "546dc2da",
   "metadata": {},
   "source": [
    "#### Ejercicio 2: Tuplas, conjuntos y math con números aleatorios\n",
    "\n",
    "**Consigna:**  \n",
    "1. Genera una tupla de 10 números enteros aleatorios entre 1 y 20 (usa `random.randint`).\n",
    "2. Convierte la tupla a un conjunto y muestra ambos (así ves la diferencia entre tupla y set).\n",
    "3. Usando el método `.index()` de las tuplas, muestra el índice de la primera aparición del número más grande de la tupla.\n",
    "4. Usa `math.sqrt()` y `math.pow()` para calcular la raíz cuadrada y el cuadrado del número más pequeño de la tupla.\n",
    "5. Imprime todos los resultados."
   ]
  },
  {
   "cell_type": "code",
   "execution_count": null,
   "id": "fa9056f0",
   "metadata": {
    "vscode": {
     "languageId": "plaintext"
    }
   },
   "outputs": [],
   "source": []
  },
  {
   "cell_type": "markdown",
   "id": "e21e422f",
   "metadata": {},
   "source": [
    "#### Ejercicio 3: Gestión de directorios y conjuntos de nombres\n",
    "\n",
    "**Consigna:**  \n",
    "1. Usa `os.listdir()` para obtener los archivos/carpetas de tu directorio actual.\n",
    "2. Convierte esa lista en un conjunto.\n",
    "3. Pídele al usuario que ingrese el nombre de un archivo o carpeta.\n",
    "4. Verifica si existe usando el set y usando `os.path.exists()`, y avísale al usuario si existe o no.\n",
    "5. Si no existe, crea un nuevo directorio con ese nombre (`os.mkdir`)."
   ]
  },
  {
   "cell_type": "code",
   "execution_count": null,
   "id": "0fc4fd4a",
   "metadata": {
    "vscode": {
     "languageId": "plaintext"
    }
   },
   "outputs": [],
   "source": []
  },
  {
   "cell_type": "markdown",
   "id": "8cc683f6",
   "metadata": {},
   "source": [
    "#### Ejercicio 4: Trivias matemáticas con random, tuplas y math\n",
    "\n",
    "**Consigna:**  \n",
    "1. Tienes una tupla con 5 números enteros aleatorios entre 1 y 100.\n",
    "2. Usa `random.sample()` para elegir 2 números distintos de la tupla.\n",
    "3. Calcula el máximo común divisor (MCD) y el mínimo común múltiplo (MCM) usando `math.gcd()` y `math.lcm()` de esos dos números.\n",
    "4. Guarda los dos números y sus resultados en un set como tuplas de la forma `(a, b, gcd, lcm)`.\n",
    "5. Imprime la tupla original, los dos elegidos y el set con los cálculos."
   ]
  },
  {
   "cell_type": "code",
   "execution_count": null,
   "id": "a18afc46",
   "metadata": {
    "vscode": {
     "languageId": "plaintext"
    }
   },
   "outputs": [],
   "source": []
  }
 ],
 "metadata": {
  "language_info": {
   "name": "python"
  }
 },
 "nbformat": 4,
 "nbformat_minor": 5
}
