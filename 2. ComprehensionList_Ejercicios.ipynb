{
 "cells": [
  {
   "cell_type": "markdown",
   "id": "0b555d15",
   "metadata": {},
   "source": [
    "# List Comprehensions - Ejercicios Prácticos\n",
    "\n",
    "Una **List Comprehension** es una forma concisa de crear listas en Python, pues permite generar listas nuevas transformando cada elemento de una colección existente o creando elementos a partir de un rango. La sintaxis es compacta y directa, lo que facilita la comprensión del propósito de tu código de un vistazo.\n",
    "\n",
    "## Estructura básica\n",
    "\n",
    "La estructura básica de una List Comprehension es:\n",
    "\n",
    "**`[expresión for elemento in iterable if condición]`**\n",
    "\n",
    "Que se traduce a: *\"Crea una nueva lista evaluando nueva_expresión para cada elemento en el iterable.\"*"
   ]
  },
  {
   "cell_type": "markdown",
   "id": "6688ffa9",
   "metadata": {},
   "source": [
    "\n",
    "La **estructura de una list comprehension** puede variar según lo que quieras hacer, pero todas siguen una forma básica:\n",
    "\n",
    "### 1. Estructura básica\n"
   ]
  },
  {
   "cell_type": "code",
   "execution_count": null,
   "id": "ab30ce9a",
   "metadata": {},
   "outputs": [],
   "source": [
    "[nueva_expresion for elemento in iterable]"
   ]
  },
  {
   "cell_type": "markdown",
   "id": "82f12d79",
   "metadata": {},
   "source": [
    "\n",
    "\n",
    "---\n",
    "\n",
    "### 2. List comprehension anidada (listas dentro de listas)\n"
   ]
  },
  {
   "cell_type": "code",
   "execution_count": null,
   "id": "98727c30",
   "metadata": {},
   "outputs": [],
   "source": [
    "[[expresion for elemento in iterable1] for elemento2 in iterable2]"
   ]
  },
  {
   "cell_type": "markdown",
   "id": "9731aa9e",
   "metadata": {},
   "source": [
    "\n",
    "---\n",
    "\n",
    "### 1. **Condición de filtro (`if` al final)**\n",
    "- **Forma:** `[expresion for elemento in iterable if condicion]`\n",
    "- **Función:** Solo incluye los elementos que cumplen la condición.\n",
    "- **Ejemplo:**  \n",
    "  ```python\n",
    "  pares = [x for x in listOrigin if x % 2 == 0]\n",
    "  ```\n",
    "  Aquí, el `if` al final **filtra** los elementos.\n",
    "\n",
    "---\n",
    "\n",
    "### 2. **Condición ternaria (`if...else` al principio)**\n",
    "- **Forma:** `[exp1 if condicion else exp2 for elemento in iterable]`\n",
    "- **Función:** Incluye **todos** los elementos, pero elige qué expresión usar según la condición.\n",
    "- **Ejemplo:**  \n",
    "  ```python\n",
    "  newNumbers = [i*2 if i % 2 == 0 else i for i in numbers]\n",
    "  ```\n",
    "  Aquí, el `if...else` al principio **decide el valor** para cada elemento.\n",
    "\n",
    "---"
   ]
  },
  {
   "cell_type": "markdown",
   "id": "80b10f7a",
   "metadata": {},
   "source": [
    "\n",
    "\n",
    "---\n",
    "\n",
    "\n"
   ]
  },
  {
   "cell_type": "markdown",
   "id": "0a5118f3",
   "metadata": {},
   "source": [
    "***Ejercicios 1***\n",
    "\n",
    "****Doble de los Números:**** \n",
    "Dada una lista de números [1, 2, 3, 4, 5], crea una nueva lista que contenga el doble de cada número usando una List Comprehension."
   ]
  },
  {
   "cell_type": "markdown",
   "id": "daaf46b9",
   "metadata": {},
   "source": [
    "### Solución: Doble de números con List Comprehension\n",
    "\n",
    "Este código demuestra cómo:\n",
    "- Crear una nueva lista multiplicando cada elemento por 2\n",
    "- Usar la sintaxis básica de list comprehension: `[expresión for elemento in iterable]`\n",
    "- Aplicar una transformación simple a todos los elementos de una lista"
   ]
  },
  {
   "cell_type": "code",
   "execution_count": 4,
   "id": "b763d55d",
   "metadata": {},
   "outputs": [
    {
     "name": "stdout",
     "output_type": "stream",
     "text": [
      "[2, 4, 6, 8, 10]\n"
     ]
    }
   ],
   "source": [
    "listOrigin = [1,2,3,4,5]\n",
    "listDobl = [x*2 for x in listOrigin]\n",
    "print(listDobl)\n"
   ]
  },
  {
   "cell_type": "markdown",
   "id": "da1b2e83",
   "metadata": {},
   "source": [
    "***Ejercicios 2***\n",
    "\n",
    "****Filtrar y Transformar en un Solo Paso:**** \n",
    "Tienes una lista de palabras [\"sol\", \"mar\", \"montaña\", \"rio\", \"estrella\"] y quieres obtener una nueva lista con las palabras que tengan más de 3 letras y estén en mayúsculas."
   ]
  },
  {
   "cell_type": "markdown",
   "id": "29f0ddde",
   "metadata": {},
   "source": [
    "### Solución: Filtrar y transformar palabras\n",
    "\n",
    "Este código demuestra cómo:\n",
    "- Usar list comprehension con condición de filtro `if`\n",
    "- Aplicar el método `.upper()` para convertir a mayúsculas\n",
    "- Filtrar elementos por longitud usando `len()`\n",
    "- Combinar transformación y filtrado en una sola línea"
   ]
  },
  {
   "cell_type": "code",
   "execution_count": 7,
   "id": "8b0889ee",
   "metadata": {},
   "outputs": [
    {
     "name": "stdout",
     "output_type": "stream",
     "text": [
      "['SOL', 'MAR', 'RIO']\n"
     ]
    }
   ],
   "source": [
    "listword = [\"sol\", \"mar\", \"montaña\", \"rio\", \"estrella\"]\n",
    "sellectword = [x.upper() for x in listword if len(x) == 3]\n",
    "print(sellectword)"
   ]
  },
  {
   "cell_type": "markdown",
   "id": "1cb8360a",
   "metadata": {},
   "source": [
    "***Ejercicios 4***\n",
    "\n",
    "****Anidación de List Comprehensions****: \n",
    "Dada una lista de listas (una matriz):\n",
    "\n",
    "pythonCopiar código\n",
    "matriz = [\n",
    "    [1, 2, 3],\n",
    "    [4, 5, 6],\n",
    "    [7, 8, 9]\n",
    "]\n",
    "Calcula la matriz traspuesta utilizando una List Comprehension anidada."
   ]
  },
  {
   "cell_type": "markdown",
   "id": "49e03949",
   "metadata": {},
   "source": [
    "### Solución 1: Transposición con bucles tradicionales\n",
    "\n",
    "Este código demuestra cómo:\n",
    "- Transponer una matriz usando bucles `for` anidados\n",
    "- Iterar por filas y columnas usando índices\n",
    "- Crear una nueva matriz intercambiando filas por columnas\n",
    "- Usar listas vacías para construir la matriz resultado"
   ]
  },
  {
   "cell_type": "code",
   "execution_count": null,
   "id": "a5ec1d16",
   "metadata": {},
   "outputs": [
    {
     "name": "stdout",
     "output_type": "stream",
     "text": [
      "[[1, 4, 7], [2, 5, 8], [3, 6, 9]]\n"
     ]
    }
   ],
   "source": [
    "\n",
    "matriz = [\n",
    "    [1, 2, 3],\n",
    "    [4, 5, 6],\n",
    "    [7, 8, 9]\n",
    "]\n",
    "matrizTrans = []\n",
    "fila = []\n",
    "for i in range(len(matriz)):\n",
    "    for j in range(len(matriz[i])):\n",
    "        fila.append(matriz[j][i])\n",
    "    matrizTrans.append(fila)\n",
    "    fila = []\n",
    "print(matrizTrans)\n",
    "        "
   ]
  },
  {
   "cell_type": "markdown",
   "id": "0e6f1275",
   "metadata": {},
   "source": [
    "### Solución 2: Transposición optimizada\n",
    "\n",
    "Este código demuestra cómo:\n",
    "- Usar un enfoque más eficiente iterando por columnas primero\n",
    "- Iterar directamente sobre las filas de la matriz\n",
    "- Acceder a elementos específicos usando índices de columna\n",
    "- Crear la matriz transpuesta de manera más legible"
   ]
  },
  {
   "cell_type": "code",
   "execution_count": 50,
   "id": "0cbd00aa",
   "metadata": {},
   "outputs": [
    {
     "name": "stdout",
     "output_type": "stream",
     "text": [
      "[[1, 4, 7], [2, 5, 8], [3, 6, 9]]\n"
     ]
    }
   ],
   "source": [
    "matriz = [\n",
    "    [1, 2, 3],\n",
    "    [4, 5, 6],\n",
    "    [7, 8, 9]\n",
    "]\n",
    "matrizTrans = []\n",
    "for i in range(len(matriz[0])):\n",
    "    fila=[]\n",
    "    for j in matriz:\n",
    "        fila.append(j[i])\n",
    "    matrizTrans.append(fila)\n",
    "    fila = []\n",
    "print(matrizTrans)\n",
    "        "
   ]
  },
  {
   "cell_type": "markdown",
   "id": "8e70b62b",
   "metadata": {},
   "source": [
    "### Solución 3: Transposición con List Comprehension anidada\n",
    "\n",
    "Este código demuestra cómo:\n",
    "- Usar list comprehension anidada para transponer una matriz\n",
    "- Aplicar la sintaxis `[[expresión for elemento in iterable1] for elemento in iterable2]`\n",
    "- Acceder a elementos de columna usando índices\n",
    "- Crear código más conciso y pythónico"
   ]
  },
  {
   "cell_type": "code",
   "execution_count": 55,
   "id": "69fffa09",
   "metadata": {},
   "outputs": [
    {
     "name": "stdout",
     "output_type": "stream",
     "text": [
      "[[1, 4, 7], [2, 5, 8], [3, 6, 9]]\n"
     ]
    }
   ],
   "source": [
    "matriz = [\n",
    "    [1, 2, 3],\n",
    "    [4, 5, 6],\n",
    "    [7, 8, 9]\n",
    "]\n",
    "\n",
    "matrizTrans = [[fila[i] for fila in matriz] for i in range(len(matriz[0]))]\n",
    "print(matrizTrans)"
   ]
  },
  {
   "cell_type": "markdown",
   "id": "a9004e4a",
   "metadata": {},
   "source": [
    "***Ejercicios 5***\n",
    "\n",
    "****Extraer Información de una Lista de Diccionarios****: \n",
    "Dada una lista de diccionarios que representan personas:\n",
    "\n",
    "pythonCopiar código\n",
    "personas = [\n",
    "    {\"nombre\": \"Juan\", \"edad\": 25, \"ciudad\": \"Madrid\"},\n",
    "    {\"nombre\": \"Ana\", \"edad\": 32, \"ciudad\": \"Madrid\"},\n",
    "    {\"nombre\": \"Pedro\", \"edad\": 35, \"ciudad\": \"Barcelona\"},\n",
    "    {\"nombre\": \"Laura\", \"edad\": 40, \"ciudad\": \"Madrid\"}\n",
    "]\n",
    "Extrae una lista de nombres de personas que viven en “Madrid” y tienen más de 30 años."
   ]
  },
  {
   "cell_type": "markdown",
   "id": "cd851bb2",
   "metadata": {},
   "source": [
    "### Solución: Filtrar información de diccionarios\n",
    "\n",
    "Este código demuestra cómo:\n",
    "- Trabajar con listas de diccionarios\n",
    "- Acceder a valores específicos usando claves: `diccionario[\"clave\"]`\n",
    "- Aplicar múltiples condiciones con `and`\n",
    "- Extraer solo la información necesaria (nombres) de estructuras complejas"
   ]
  },
  {
   "cell_type": "code",
   "execution_count": 3,
   "id": "d326681c",
   "metadata": {},
   "outputs": [
    {
     "name": "stdout",
     "output_type": "stream",
     "text": [
      "['Ana', 'Laura']\n"
     ]
    }
   ],
   "source": [
    "personas = [\n",
    "    {\"nombre\": \"Juan\", \"edad\": 25, \"ciudad\": \"Madrid\"},\n",
    "    {\"nombre\": \"Ana\", \"edad\": 32, \"ciudad\": \"Madrid\"},\n",
    "    {\"nombre\": \"Pedro\", \"edad\": 35, \"ciudad\": \"Barcelona\"},\n",
    "    {\"nombre\": \"Laura\", \"edad\": 40, \"ciudad\": \"Madrid\"}\n",
    "]\n",
    "\n",
    "personselect = [i[\"nombre\"] for i in personas if i[\"edad\"] > 30 and i[\"ciudad\"] == \"Madrid\"]\n",
    "print(personselect)"
   ]
  },
  {
   "cell_type": "markdown",
   "id": "fc796793",
   "metadata": {},
   "source": [
    "***Ejercicios 6***\n",
    "\n",
    "****List Comprehension con un else****: \n",
    "Dada una lista de números [1, 2, 3, 4, 5, 6, 7, 8, 9, 10], crea una nueva lista multiplicando por 2 los números pares y dejando los impares como están."
   ]
  },
  {
   "cell_type": "markdown",
   "id": "24a8dbc5",
   "metadata": {},
   "source": [
    "### Solución 1: Enfoque tradicional con bucles\n",
    "\n",
    "Este código demuestra cómo:\n",
    "- Usar bucles `for` tradicionales con condicionales `if-else`\n",
    "- Aplicar diferentes transformaciones según condiciones\n",
    "- Construir listas paso a paso con `.append()`\n",
    "- Manejar lógica condicional de manera explícita"
   ]
  },
  {
   "cell_type": "code",
   "execution_count": 2,
   "id": "dd6341da",
   "metadata": {},
   "outputs": [
    {
     "name": "stdout",
     "output_type": "stream",
     "text": [
      "[1, 4, 3, 8, 5, 12, 7, 16, 9, 20]\n"
     ]
    }
   ],
   "source": [
    "numbers = [1, 2, 3, 4, 5, 6, 7, 8, 9, 10]\n",
    "newNumbers = []\n",
    "for i in numbers:\n",
    "    if i%2 == 0:\n",
    "        newNumbers.append(i*2)\n",
    "    else:\n",
    "        newNumbers.append(i)\n",
    "print(newNumbers)"
   ]
  },
  {
   "cell_type": "markdown",
   "id": "32abe5ae",
   "metadata": {},
   "source": [
    "### Solución 2: List Comprehension con operador ternario\n",
    "\n",
    "Este código demuestra cómo:\n",
    "- Usar el operador ternario `expresión1 if condición else expresión2`\n",
    "- Aplicar diferentes transformaciones en una sola línea\n",
    "- Combinar list comprehension con lógica condicional\n",
    "- Crear código más conciso y pythónico"
   ]
  },
  {
   "cell_type": "code",
   "execution_count": null,
   "id": "6900fde5",
   "metadata": {},
   "outputs": [
    {
     "name": "stdout",
     "output_type": "stream",
     "text": [
      "[1, 4, 3, 8, 5, 12, 7, 16, 9, 20]\n"
     ]
    }
   ],
   "source": [
    "numbers = [1, 2, 3, 4, 5, 6, 7, 8, 9, 10]\n",
    "newNumbers = [i*2  if i % 2 == 0 else i for i in numbers]\n",
    "print(newNumbers)"
   ]
  }
 ],
 "metadata": {
  "kernelspec": {
   "display_name": "Python 3",
   "language": "python",
   "name": "python3"
  },
  "language_info": {
   "codemirror_mode": {
    "name": "ipython",
    "version": 3
   },
   "file_extension": ".py",
   "mimetype": "text/x-python",
   "name": "python",
   "nbconvert_exporter": "python",
   "pygments_lexer": "ipython3",
   "version": "3.12.4"
  }
 },
 "nbformat": 4,
 "nbformat_minor": 5
}
