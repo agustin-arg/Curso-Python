{
 "cells": [
  {
   "cell_type": "markdown",
   "id": "0b555d15",
   "metadata": {},
   "source": [
    "Una Comprehension List es una forma concisa de crear listas en Python, pues permite generar listas nuevas transformando cada elemento de una colección existente o creando elementos a partir de un rango. La sintaxis es compacta y directa, lo que facilita la comprensión del propósito de tu código de un vistazo.\n",
    "\n",
    "La estructura básica de una Comprehension List es:\n",
    "\n",
    "***[expresión for elemento in iterable if condición]***\n",
    "\n",
    "Que se traduce a: “Crea una nueva lista evaluando nueva_expresión para cada elemento en el iterable.”"
   ]
  },
  {
   "cell_type": "markdown",
   "id": "0a5118f3",
   "metadata": {},
   "source": [
    "***Ejercicios 1***\n",
    "\n",
    "****Doble de los Números:**** \n",
    "Dada una lista de números [1, 2, 3, 4, 5], crea una nueva lista que contenga el doble de cada número usando una List Comprehension."
   ]
  },
  {
   "cell_type": "code",
   "execution_count": 4,
   "id": "b763d55d",
   "metadata": {},
   "outputs": [
    {
     "name": "stdout",
     "output_type": "stream",
     "text": [
      "[2, 4, 6, 8, 10]\n"
     ]
    }
   ],
   "source": [
    "listOrigin = [1,2,3,4,5]\n",
    "listDobl = [x*2 for x in listOrigin]\n",
    "print(listDobl)\n"
   ]
  },
  {
   "cell_type": "markdown",
   "id": "da1b2e83",
   "metadata": {},
   "source": [
    "***Ejercicios 2***\n",
    "\n",
    "****Filtrar y Transformar en un Solo Paso:**** \n",
    "Tienes una lista de palabras [\"sol\", \"mar\", \"montaña\", \"rio\", \"estrella\"] y quieres obtener una nueva lista con las palabras que tengan más de 3 letras y estén en mayúsculas."
   ]
  },
  {
   "cell_type": "code",
   "execution_count": 7,
   "id": "8b0889ee",
   "metadata": {},
   "outputs": [
    {
     "name": "stdout",
     "output_type": "stream",
     "text": [
      "['SOL', 'MAR', 'RIO']\n"
     ]
    }
   ],
   "source": [
    "listword = [\"sol\", \"mar\", \"montaña\", \"rio\", \"estrella\"]\n",
    "sellectword = [x.upper() for x in listword if len(x) == 3]\n",
    "print(sellectword)"
   ]
  },
  {
   "cell_type": "markdown",
   "id": "1cb8360a",
   "metadata": {},
   "source": [
    "***Ejercicios 4***\n",
    "\n",
    "****Anidación de List Comprehensions****: \n",
    "Dada una lista de listas (una matriz):\n",
    "\n",
    "pythonCopiar código\n",
    "matriz = [\n",
    "    [1, 2, 3],\n",
    "    [4, 5, 6],\n",
    "    [7, 8, 9]\n",
    "]\n",
    "Calcula la matriz traspuesta utilizando una List Comprehension anidada."
   ]
  },
  {
   "cell_type": "code",
   "execution_count": 44,
   "id": "a5ec1d16",
   "metadata": {},
   "outputs": [
    {
     "name": "stdout",
     "output_type": "stream",
     "text": [
      "[[1, 4, 7], [2, 5, 8], [3, 6, 9]]\n"
     ]
    }
   ],
   "source": [
    "matriz = [\n",
    "    [1, 2, 3],\n",
    "    [4, 5, 6],\n",
    "    [7, 8, 9]\n",
    "]\n",
    "matrizTrans = []\n",
    "fila = []\n",
    "for i in range(len(matriz)):\n",
    "    for j in range(len(matriz[i])):\n",
    "        fila.append(matriz[j][i])\n",
    "    matrizTrans.append(fila)\n",
    "    fila = []\n",
    "print(matrizTrans)\n",
    "        "
   ]
  },
  {
   "cell_type": "code",
   "execution_count": 50,
   "id": "0cbd00aa",
   "metadata": {},
   "outputs": [
    {
     "name": "stdout",
     "output_type": "stream",
     "text": [
      "[[1, 4, 7], [2, 5, 8], [3, 6, 9]]\n"
     ]
    }
   ],
   "source": [
    "matriz = [\n",
    "    [1, 2, 3],\n",
    "    [4, 5, 6],\n",
    "    [7, 8, 9]\n",
    "]\n",
    "matrizTrans = []\n",
    "for i in range(len(matriz[0])):\n",
    "    fila=[]\n",
    "    for j in matriz:\n",
    "        fila.append(j[i])\n",
    "    matrizTrans.append(fila)\n",
    "    fila = []\n",
    "print(matrizTrans)\n",
    "        "
   ]
  },
  {
   "cell_type": "code",
   "execution_count": 55,
   "id": "69fffa09",
   "metadata": {},
   "outputs": [
    {
     "name": "stdout",
     "output_type": "stream",
     "text": [
      "[[1, 4, 7], [2, 5, 8], [3, 6, 9]]\n"
     ]
    }
   ],
   "source": [
    "matriz = [\n",
    "    [1, 2, 3],\n",
    "    [4, 5, 6],\n",
    "    [7, 8, 9]\n",
    "]\n",
    "\n",
    "matrizTrans = [[fila[i] for fila in matriz] for i in range(len(matriz[0]))]\n",
    "print(matrizTrans)"
   ]
  },
  {
   "cell_type": "markdown",
   "id": "a9004e4a",
   "metadata": {},
   "source": [
    "***Ejercicios 5***\n",
    "\n",
    "****Extraer Información de una Lista de Diccionarios****: \n",
    "Dada una lista de diccionarios que representan personas:\n",
    "\n",
    "pythonCopiar código\n",
    "personas = [\n",
    "    {\"nombre\": \"Juan\", \"edad\": 25, \"ciudad\": \"Madrid\"},\n",
    "    {\"nombre\": \"Ana\", \"edad\": 32, \"ciudad\": \"Madrid\"},\n",
    "    {\"nombre\": \"Pedro\", \"edad\": 35, \"ciudad\": \"Barcelona\"},\n",
    "    {\"nombre\": \"Laura\", \"edad\": 40, \"ciudad\": \"Madrid\"}\n",
    "]\n",
    "Extrae una lista de nombres de personas que viven en “Madrid” y tienen más de 30 años."
   ]
  },
  {
   "cell_type": "markdown",
   "id": "fc796793",
   "metadata": {},
   "source": [
    "***Ejercicios 6***\n",
    "\n",
    "****List Comprehension con un else****: \n",
    "Dada una lista de números [1, 2, 3, 4, 5, 6, 7, 8, 9, 10], crea una nueva lista multiplicando por 2 los números pares y dejando los impares como están."
   ]
  }
 ],
 "metadata": {
  "kernelspec": {
   "display_name": "Python 3",
   "language": "python",
   "name": "python3"
  },
  "language_info": {
   "codemirror_mode": {
    "name": "ipython",
    "version": 3
   },
   "file_extension": ".py",
   "mimetype": "text/x-python",
   "name": "python",
   "nbconvert_exporter": "python",
   "pygments_lexer": "ipython3",
   "version": "3.12.4"
  }
 },
 "nbformat": 4,
 "nbformat_minor": 5
}
