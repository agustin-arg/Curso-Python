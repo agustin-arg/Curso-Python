{
 "cells": [
  {
   "cell_type": "markdown",
   "id": "83db7d64",
   "metadata": {},
   "source": [
    "\"Zen of python\""
   ]
  },
  {
   "cell_type": "markdown",
   "id": "6b20b9f5",
   "metadata": {},
   "source": [
    "### Importando el Zen de Python\n",
    "\n",
    "Este código demuestra cómo:\n",
    "- Importar el módulo `this` para mostrar el Zen de Python\n",
    "- Visualizar los principios filosóficos que guían el lenguaje Python\n",
    "- Conocer las reglas de diseño fundamentales de Python"
   ]
  },
  {
   "cell_type": "code",
   "execution_count": 1,
   "id": "54ec44d4",
   "metadata": {},
   "outputs": [
    {
     "name": "stdout",
     "output_type": "stream",
     "text": [
      "The Zen of Python, by Tim Peters\n",
      "\n",
      "Beautiful is better than ugly.\n",
      "Explicit is better than implicit.\n",
      "Simple is better than complex.\n",
      "Complex is better than complicated.\n",
      "Flat is better than nested.\n",
      "Sparse is better than dense.\n",
      "Readability counts.\n",
      "Special cases aren't special enough to break the rules.\n",
      "Although practicality beats purity.\n",
      "Errors should never pass silently.\n",
      "Unless explicitly silenced.\n",
      "In the face of ambiguity, refuse the temptation to guess.\n",
      "There should be one-- and preferably only one --obvious way to do it.\n",
      "Although that way may not be obvious at first unless you're Dutch.\n",
      "Now is better than never.\n",
      "Although never is often better than *right* now.\n",
      "If the implementation is hard to explain, it's a bad idea.\n",
      "If the implementation is easy to explain, it may be a good idea.\n",
      "Namespaces are one honking great idea -- let's do more of those!\n"
     ]
    }
   ],
   "source": [
    "import this"
   ]
  },
  {
   "cell_type": "markdown",
   "id": "e4caf2f2",
   "metadata": {},
   "source": [
    "### Concatenación de strings\n",
    "\n",
    "Este código demuestra cómo:\n",
    "- Declarar variables de tipo string\n",
    "- Concatenar strings usando el operador `+`\n",
    "- Mostrar el resultado de la concatenación con `print()`\n",
    "- Entender que los números como strings se concatenan, no se suman"
   ]
  },
  {
   "cell_type": "code",
   "execution_count": 6,
   "id": "faf53a73",
   "metadata": {},
   "outputs": [
    {
     "name": "stdout",
     "output_type": "stream",
     "text": [
      "123123\n"
     ]
    }
   ],
   "source": [
    "num = \"123\"\n",
    "num2 = \"123\"\n",
    "print(num + num2)"
   ]
  },
  {
   "cell_type": "markdown",
   "id": "bc6b8646",
   "metadata": {},
   "source": [
    "### Tipos de datos numéricos\n",
    "\n",
    "Este código demuestra cómo:\n",
    "- Declarar variables con diferentes tipos numéricos\n",
    "- Usar `type()` para verificar el tipo de dato de una variable\n",
    "- Trabajar con enteros (`int`), flotantes (`float`) y notación científica\n",
    "- Entender la diferencia entre `-1` (entero) y `-1.0` (flotante)\n",
    "- Usar notación científica como `-1E-1` (que equivale a -0.1)"
   ]
  },
  {
   "cell_type": "code",
   "execution_count": 20,
   "id": "4baa0b79",
   "metadata": {},
   "outputs": [
    {
     "name": "stdout",
     "output_type": "stream",
     "text": [
      "<class 'int'>\n",
      "<class 'float'>\n",
      "-0.1\n",
      "<class 'float'>\n"
     ]
    }
   ],
   "source": [
    "x = -1\n",
    "print(type(x))\n",
    "y = -1.0\n",
    "print(type(y))\n",
    "a = -1E-1\n",
    "print(a)\n",
    "print(type(a))"
   ]
  },
  {
   "cell_type": "markdown",
   "id": "10f1b15e",
   "metadata": {},
   "source": [
    "### Parámetro 'end' en la función print()\n",
    "\n",
    "Este código demuestra cómo:\n",
    "- Usar el parámetro `end` para modificar lo que se imprime al final de cada `print()`\n",
    "- Cambiar el comportamiento predeterminado de salto de línea\n",
    "- Concatenar la salida de múltiples `print()` en la misma línea\n",
    "- Usar espacios u otros caracteres como terminadores personalizados"
   ]
  },
  {
   "cell_type": "code",
   "execution_count": 30,
   "id": "989f6b62",
   "metadata": {},
   "outputs": [
    {
     "name": "stdout",
     "output_type": "stream",
     "text": [
      "NuncafdgdfgdfgNunca pares de aprender\n"
     ]
    }
   ],
   "source": [
    "print(\"Nunca\", end=\"fdgdfgdfg\") \n",
    "print(\"Nunca\", end=\" \")\n",
    "print(\"pares de aprender\")\n",
    "#print(\"Nunca\", end=\" \")\n",
    "#print(\".\")"
   ]
  },
  {
   "cell_type": "markdown",
   "id": "8f71bb65",
   "metadata": {},
   "source": [
    "### Conversión de string a entero\n",
    "\n",
    "Este código demuestra cómo:\n",
    "- Convertir una variable de tipo string a tipo entero usando `int()`\n",
    "- Verificar el cambio de tipo con `type()`\n",
    "- Realizar casting (conversión) de tipos de datos\n",
    "- Transformar texto numérico en un valor numérico real"
   ]
  },
  {
   "cell_type": "code",
   "execution_count": 5,
   "id": "660115a8",
   "metadata": {},
   "outputs": [
    {
     "name": "stdout",
     "output_type": "stream",
     "text": [
      "4\n",
      "<class 'int'>\n"
     ]
    }
   ],
   "source": [
    "n = \"4\"\n",
    "a = int(n)\n",
    "print(a)\n",
    "print(type(a))"
   ]
  },
  {
   "cell_type": "markdown",
   "id": "e4b361de",
   "metadata": {},
   "source": [
    "### Conversión de entero a string\n",
    "\n",
    "Este código demuestra cómo:\n",
    "- Convertir una variable de tipo entero a tipo string usando `str()`\n",
    "- Verificar el cambio de tipo con `type()`\n",
    "- Realizar casting inverso (de número a texto)\n",
    "- Transformar un valor numérico en texto para manipulación de strings"
   ]
  },
  {
   "cell_type": "code",
   "execution_count": null,
   "id": "cda6c3e3",
   "metadata": {},
   "outputs": [
    {
     "name": "stdout",
     "output_type": "stream",
     "text": [
      "4\n",
      "<class 'str'>\n"
     ]
    }
   ],
   "source": [
    "n = 4\n",
    "a = str(n)\n",
    "print(a)\n",
    "print(type(a))\n",
    "[]"
   ]
  }
 ],
 "metadata": {
  "kernelspec": {
   "display_name": "Python 3",
   "language": "python",
   "name": "python3"
  },
  "language_info": {
   "codemirror_mode": {
    "name": "ipython",
    "version": 3
   },
   "file_extension": ".py",
   "mimetype": "text/x-python",
   "name": "python",
   "nbconvert_exporter": "python",
   "pygments_lexer": "ipython3",
   "version": "3.12.4"
  }
 },
 "nbformat": 4,
 "nbformat_minor": 5
}
