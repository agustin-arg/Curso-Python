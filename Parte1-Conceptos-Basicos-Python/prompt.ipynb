{
 "cells": [
  {
   "cell_type": "markdown",
   "id": "a8cc1a70",
   "metadata": {},
   "source": [
    "A partir de ahora, cada vez que te pase una lista de ejercicios de programación, quiero que:\n",
    "\n",
    "Detectes cada ejercicio por su numeración (por ejemplo: # Ejercicio 1, # Ejercicio 2, etc.).\n",
    "\n",
    "Por cada ejercicio, insertes un nuevo bloque de tipo Markdown dentro del mismo archivo .ipynb.\n",
    "\n",
    "El contenido de cada bloque debe mantener el formato original (encabezados, listas, bloques de código, etc.).\n",
    "\n",
    "No agrupes los ejercicios en un solo bloque. Cada uno debe ir en su propio bloque Markdown.\n",
    "\n",
    "No generes código adicional ni explicaciones fuera del contenido del ejercicio. Solo transcribí cada ejercicio como bloque Markdown.\n",
    "\n",
    "El titulo debe ser en este formato \"#### \""
   ]
  },
  {
   "cell_type": "markdown",
   "id": "a08042bf",
   "metadata": {},
   "source": [
    "..........................................."
   ]
  },
  {
   "cell_type": "markdown",
   "id": "5dde0d3b",
   "metadata": {},
   "source": [
    "Quiero que me ayudes a practicar programación de forma progresiva y aplicada. Yo te voy a pasar el tema que estoy viendo en clase junto con información o apuntes relacionados.\n",
    "\n",
    "En base a eso, quiero que generes actividades prácticas numeradas, con las siguientes características:\n",
    "\n",
    "Enfocadas en practicar métodos (como .split(), .append(), .read(), etc.)\n",
    "\n",
    "Que estén organizadas de manera escalonada (de más simple a más compleja).\n",
    "\n",
    "Que no sean muchas, pero que cada una aproveche varios conceptos en una sola consigna.\n",
    "\n",
    "Al final, debe haber una última actividad integrada que:\n",
    "\n",
    "No indique qué métodos usar.\n",
    "\n",
    "Plantee un problema y que yo decida cómo resolverlo con lo aprendido.\n",
    "\n",
    "Quiero que uses este formato para cada ejercicio:\n",
    "\n",
    "Ejercicio <número>: <título breve con el método o concepto clave>\n",
    "\n",
    "<Consigna clara y específica>\n",
    "Ejemplo del formato:\n",
    "\n",
    "jercicio 1: csv.reader – Leer CSV fila por fila como listas\n",
    "\n",
    "Dado el archivo `alumnos.csv` con el contenido:\n",
    "\n",
    "nombre,edad,curso  \n",
    "Juan,20,Python  \n",
    "Ana,22,Java  \n",
    "Luis,19,JavaScript  \n",
    "\n",
    "Crea un archivo usando csv.writer y el método .writerows(). Luego, lee el archivo y muestra cada fila como una lista con csv.reader.\n",
    "Además, quiero que cuando yo te envíe mis soluciones:\n",
    "\n",
    "Las evalúes de forma breve, diciendo si funcionan o no.\n",
    "\n",
    "Si hay errores, indica el error sin darme la solución directa. Dame una pista textual (\"quizás podrías usar un diccionario\", por ejemplo).\n",
    "\n",
    "Si no logro resolverlo, te pido una ayuda más directa (mostrándome cómo hacerlo con código).\n",
    "\n",
    "Si aún así no lo resuelvo, mostrame la solución completa.\n",
    "\n",
    "Si el ejercicio está bien, podés sugerir mejoras o formas más limpias de resolverlo (pero solo después de que funcione)."
   ]
  }
 ],
 "metadata": {
  "language_info": {
   "name": "python"
  }
 },
 "nbformat": 4,
 "nbformat_minor": 5
}
