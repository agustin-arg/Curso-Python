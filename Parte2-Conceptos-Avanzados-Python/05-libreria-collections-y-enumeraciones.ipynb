{
 "cells": [
  {
   "cell_type": "markdown",
   "id": "6a56b01a",
   "metadata": {},
   "source": [
    "#### Ejercicio 1: defaultdict y Counter – Contar palabras y agrupar por longitud\n",
    "\n",
    "Crea una función llamada `word_analysis()` que recibe una lista de palabras en inglés.  \n",
    "Debes devolver dos resultados:\n",
    "\n",
    "1. Un objeto `Counter` con la frecuencia de cada palabra.\n",
    "2. Un objeto `defaultdict(list)` que agrupe las palabras por su longitud (clave: longitud, valor: lista de palabras).\n",
    "\n",
    "Por ejemplo, para `words = [\"apple\", \"pear\", \"banana\", \"pear\", \"peach\", \"apple\"]`, deberías obtener:\n",
    "\n",
    "- Un contador donde \"apple\" aparece 2 veces, \"pear\" 2 veces, \"banana\" y \"peach\" 1 vez cada una.\n",
    "- Un defaultdict donde las palabras se agrupan así:  \n",
    "  `{5: [\"apple\", \"peach\"], 4: [\"pear\"], 6: [\"banana\"]}`"
   ]
  },
  {
   "cell_type": "code",
   "execution_count": null,
   "id": "9a3d8089",
   "metadata": {
    "vscode": {
     "languageId": "plaintext"
    }
   },
   "outputs": [],
   "source": []
  },
  {
   "cell_type": "markdown",
   "id": "6796c2da",
   "metadata": {},
   "source": [
    "#### Ejercicio 2: deque – Simular una cola de tareas\n",
    "\n",
    "Crea una función llamada `task_queue_simulation()` que recibe una lista de tareas (`tasks`) y una lista de comandos (`commands`).  \n",
    "Los comandos pueden ser:\n",
    "\n",
    "- `\"add <task>\"`: agrega la tarea al final de la cola.\n",
    "- `\"addleft <task>\"`: agrega la tarea al inicio.\n",
    "- `\"pop\"`: elimina la última tarea.\n",
    "- `\"popleft\"`: elimina la primera tarea.\n",
    "- `\"rotate <n>\"`: rota la cola `n` posiciones.\n",
    "\n",
    "La función debe ejecutar todos los comandos, y devolver la cola final como una lista.\n",
    "\n",
    "Ejemplo de entrada:\n",
    "```python\n",
    "tasks = [\"task1\", \"task2\", \"task3\"]\n",
    "commands = [\"add task4\", \"addleft task0\", \"pop\", \"rotate 1\"]\n",
    "```"
   ]
  },
  {
   "cell_type": "code",
   "execution_count": null,
   "id": "7fea6606",
   "metadata": {
    "vscode": {
     "languageId": "plaintext"
    }
   },
   "outputs": [],
   "source": []
  },
  {
   "cell_type": "markdown",
   "id": "d1520590",
   "metadata": {},
   "source": [
    "#### Ejercicio 3: Enum – Estados de pedidos y agrupación\n",
    "\n",
    "Crea una enumeración llamada `OrderStatus` con los estados: `PENDING`, `SHIPPED`, `DELIVERED`.  \n",
    "Luego, crea una función `group_orders_by_status()` que recibe una lista de pedidos, cada uno es un diccionario con la clave `\"status\"` (valor: string) y `\"id\"` (valor: entero).\n",
    "\n",
    "Convierte el string de estado de cada pedido a su correspondiente miembro de la Enum y agrupa los pedidos usando un `defaultdict(list)`, donde la clave es el miembro Enum y el valor es la lista de ids de pedidos.\n",
    "\n",
    "Ejemplo de entrada:\n",
    "```python\n",
    "orders = [\n",
    "    {\"id\": 1, \"status\": \"PENDING\"},\n",
    "    {\"id\": 2, \"status\": \"DELIVERED\"},\n",
    "    {\"id\": 3, \"status\": \"SHIPPED\"},\n",
    "    {\"id\": 4, \"status\": \"DELIVERED\"},\n",
    "]\n",
    "```"
   ]
  },
  {
   "cell_type": "code",
   "execution_count": null,
   "id": "8ed3e514",
   "metadata": {
    "vscode": {
     "languageId": "plaintext"
    }
   },
   "outputs": [],
   "source": []
  },
  {
   "cell_type": "markdown",
   "id": "362c2e82",
   "metadata": {},
   "source": [
    "#### Ejercicio 4 (integrado): Gestión de inventario\n",
    "\n",
    "Plantea una solución para este problema usando lo aprendido en los ejercicios anteriores:  \n",
    "Tienes una lista de transacciones de productos, cada una es un diccionario con:  \n",
    "- `\"product\"` (string), \n",
    "- `\"action\"` (string: `\"add\"` o `\"remove\"`), \n",
    "- `\"quantity\"` (int).\n",
    "\n",
    "Tu objetivo:  \n",
    "- Calcular el inventario final de cada producto (cuántas unidades hay).\n",
    "- Agrupar los productos en dos categorías usando Enum:  \n",
    "    - `IN_STOCK` si el inventario final es mayor a 0  \n",
    "    - `OUT_OF_STOCK` si el inventario final es 0 o menos\n",
    "\n",
    "No se indica qué métodos usar; debes decidir cómo resolverlo con lo aprendido."
   ]
  },
  {
   "cell_type": "code",
   "execution_count": null,
   "id": "d38a9d32",
   "metadata": {
    "vscode": {
     "languageId": "plaintext"
    }
   },
   "outputs": [],
   "source": []
  }
 ],
 "metadata": {
  "language_info": {
   "name": "python"
  }
 },
 "nbformat": 4,
 "nbformat_minor": 5
}
