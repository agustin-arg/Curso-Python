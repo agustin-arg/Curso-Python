{
 "cells": [
  {
   "cell_type": "markdown",
   "id": "7eb827ba",
   "metadata": {},
   "source": [
    "#### Ejercicio 1: threading.Lock – Contador seguro con múltiples hilos\n",
    "Crea una función llamada safe_counter() que inicialice un contador en 0 y lance 10 hilos.\n",
    "Cada hilo debe incrementar el contador 1000 veces.\n",
    "Asegúrate de que el contador final sea correcto utilizando un objeto Lock.\n",
    "Al final, imprime el valor del contador."
   ]
  },
  {
   "cell_type": "code",
   "execution_count": null,
   "id": "c12159f6",
   "metadata": {},
   "outputs": [],
   "source": [
    "# Ejercicio 1:"
   ]
  },
  {
   "cell_type": "markdown",
   "id": "40bb1871",
   "metadata": {},
   "source": [
    "#### Ejercicio 2: threading.RLock – Acceso recursivo a recursos\n",
    "Crea una clase llamada RecursiveResource con un método access() que utilice un RLock para permitir que la función se llame a sí misma de forma recursiva hasta un máximo de 5 niveles.\n",
    "Imprime un mensaje indicando el nivel actual en cada llamada recursiva."
   ]
  },
  {
   "cell_type": "code",
   "execution_count": null,
   "id": "b6dff6f6",
   "metadata": {},
   "outputs": [],
   "source": [
    "# Ejercicio 2:"
   ]
  },
  {
   "cell_type": "markdown",
   "id": "803dcf6a",
   "metadata": {},
   "source": [
    "#### Ejercicio 3: multiprocessing – Sumar elementos en paralelo\n",
    "Define una función llamada parallel_sum() que reciba una lista de números grandes (por ejemplo, 100000 números aleatorios).\n",
    "Usa el módulo multiprocessing para dividir la lista en partes iguales y sumar cada parte en un proceso separado.\n",
    "Al final, suma los resultados y muestra el total."
   ]
  },
  {
   "cell_type": "code",
   "execution_count": null,
   "id": "c1db9363",
   "metadata": {},
   "outputs": [],
   "source": [
    "# Ejercicio 3:"
   ]
  },
  {
   "cell_type": "markdown",
   "id": "54c6f85f",
   "metadata": {},
   "source": [
    "#### Ejercicio 4: asyncio y await – Simular tareas asíncronas\n",
    "Crea una función llamada simulate_async_tasks() que lance 5 tareas asíncronas, cada una simulando una espera aleatoria entre 1 y 3 segundos usando asyncio.sleep.\n",
    "Utiliza async y await para esperar a que todas las tareas terminen y muestra cuándo cada tarea inicia y termina."
   ]
  },
  {
   "cell_type": "code",
   "execution_count": null,
   "id": "a1a543bf",
   "metadata": {},
   "outputs": [],
   "source": [
    "# Ejercicio 4:"
   ]
  },
  {
   "cell_type": "markdown",
   "id": "bb594355",
   "metadata": {},
   "source": [
    "#### Ejercicio 5: Actividad integrada – Sincronización y concurrencia\n",
    "Plantea un problema donde debas procesar una lista de datos en paralelo, pero ciertos elementos requieren una operación especial que solo puede hacerse de forma segura (sincrónica y protegida).\n",
    "No se indica qué métodos usar ni cómo combinar los conceptos.\n",
    "Tu tarea: Procesa la lista de datos lo más rápido posible, asegurando que las operaciones especiales sean seguras y no haya errores de concurrencia.\n",
    "Utiliza lo aprendido en los ejercicios anteriores para resolver el problema."
   ]
  },
  {
   "cell_type": "code",
   "execution_count": null,
   "id": "1efe0a91",
   "metadata": {},
   "outputs": [],
   "source": [
    "# Ejercicio 5:"
   ]
  }
 ],
 "metadata": {
  "language_info": {
   "name": "python"
  }
 },
 "nbformat": 4,
 "nbformat_minor": 5
}
