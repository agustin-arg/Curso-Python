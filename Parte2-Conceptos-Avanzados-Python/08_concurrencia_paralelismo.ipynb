{
 "cells": [
  {
   "cell_type": "markdown",
   "id": "7eb827ba",
   "metadata": {},
   "source": [
    "#### Ejercicio 1: threading.Lock – Contador seguro con múltiples hilos\n",
    "Crea una función llamada safe_counter() que inicialice un contador en 0 y lance 10 hilos.\n",
    "Cada hilo debe incrementar el contador 1000 veces.\n",
    "Asegúrate de que el contador final sea correcto utilizando un objeto Lock.\n",
    "Al final, imprime el valor del contador."
   ]
  },
  {
   "cell_type": "code",
   "execution_count": null,
   "id": "c12159f6",
   "metadata": {},
   "outputs": [
    {
     "name": "stdout",
     "output_type": "stream",
     "text": [
      "10000\n"
     ]
    }
   ],
   "source": [
    "# Ejercicio 1:\n",
    "import threading\n",
    "\n",
    "def safe_counter():\n",
    "    counter = 0\n",
    "    lock = threading.Lock()\n",
    "    \n",
    "    def increment():\n",
    "        nonlocal counter\n",
    "        with lock:\n",
    "            for _ in range(1000):\n",
    "                counter += 1\n",
    "\n",
    "    threads = []\n",
    "    for _ in range(10):\n",
    "        thread = threading.Thread(target=increment)\n",
    "        threads.append(thread)\n",
    "        thread.start()\n",
    "        \n",
    "    for thread in threads:\n",
    "        thread.join()\n",
    "        \n",
    "    return counter\n",
    "\n",
    "print(safe_counter())\n",
    "    "
   ]
  },
  {
   "cell_type": "markdown",
   "id": "2f0f5df9",
   "metadata": {},
   "source": [
    "Descripción de que hace cada parte:"
   ]
  },
  {
   "cell_type": "code",
   "execution_count": null,
   "id": "4d706cbf",
   "metadata": {},
   "outputs": [],
   "source": [
    "import threading\n",
    "\n",
    "def safe_counter():\n",
    "    '''\n",
    "    Lanza 10 hilos que incrementan un contador de forma segura usando threading.Lock.\n",
    "    Cada hilo suma 1000 al contador. Al finalizar, devuelve el valor total.\n",
    "    '''\n",
    "    counter = 0  # Contador compartido entre todos los hilos\n",
    "    lock = threading.Lock()  # Lock para asegurar acceso exclusivo al contador\n",
    "    \n",
    "    def increment():\n",
    "        '''\n",
    "        Incrementa el contador 1000 veces de forma segura usando el lock.\n",
    "        '''\n",
    "        nonlocal counter  # Permite modificar la variable counter definida en safe_counter\n",
    "        # Protege el acceso al contador para evitar condiciones de carrera\n",
    "        with lock:\n",
    "            for _ in range(1000):\n",
    "                counter += 1  # Suma 1 al contador\n",
    "    \n",
    "    threads = []  # Lista para almacenar los hilos\n",
    "    # Crea y lanza 10 hilos que ejecutan la función increment\n",
    "    for _ in range(10):\n",
    "        thread = threading.Thread(target=increment)  # thread: instancia de Thread, ejecuta increment()\n",
    "        threads.append(thread)\n",
    "        thread.start()  # start(): inicia la ejecución del hilo\n",
    "    \n",
    "    # Espera a que todos los hilos terminen antes de continuar\n",
    "    for thread in threads:\n",
    "        thread.join()  # join(): bloquea hasta que el hilo finalice\n",
    "    \n",
    "    return counter  # Devuelve el valor final del contador\n",
    "\n",
    "print(safe_counter())  # Debe imprimir 10000 si la concurrencia está bien gestionada"
   ]
  },
  {
   "cell_type": "markdown",
   "id": "40bb1871",
   "metadata": {},
   "source": [
    "#### Ejercicio 2: threading.RLock – Acceso recursivo a recursos\n",
    "Crea una clase llamada RecursiveResource con un método access() que utilice un RLock para permitir que la función se llame a sí misma de forma recursiva hasta un máximo de 5 niveles.\n",
    "Imprime un mensaje indicando el nivel actual en cada llamada recursiva."
   ]
  },
  {
   "cell_type": "code",
   "execution_count": null,
   "id": "b6dff6f6",
   "metadata": {},
   "outputs": [],
   "source": [
    "# Ejercicio 2:"
   ]
  },
  {
   "cell_type": "markdown",
   "id": "803dcf6a",
   "metadata": {},
   "source": [
    "#### Ejercicio 3: multiprocessing – Sumar elementos en paralelo\n",
    "Define una función llamada parallel_sum() que reciba una lista de números grandes (por ejemplo, 100000 números aleatorios).\n",
    "Usa el módulo multiprocessing para dividir la lista en partes iguales y sumar cada parte en un proceso separado.\n",
    "Al final, suma los resultados y muestra el total."
   ]
  },
  {
   "cell_type": "code",
   "execution_count": null,
   "id": "c1db9363",
   "metadata": {},
   "outputs": [],
   "source": [
    "# Ejercicio 3:"
   ]
  },
  {
   "cell_type": "markdown",
   "id": "54c6f85f",
   "metadata": {},
   "source": [
    "#### Ejercicio 4: asyncio y await – Simular tareas asíncronas\n",
    "Crea una función llamada simulate_async_tasks() que lance 5 tareas asíncronas, cada una simulando una espera aleatoria entre 1 y 3 segundos usando asyncio.sleep.\n",
    "Utiliza async y await para esperar a que todas las tareas terminen y muestra cuándo cada tarea inicia y termina."
   ]
  },
  {
   "cell_type": "code",
   "execution_count": null,
   "id": "a1a543bf",
   "metadata": {},
   "outputs": [],
   "source": [
    "# Ejercicio 4:"
   ]
  },
  {
   "cell_type": "markdown",
   "id": "bb594355",
   "metadata": {},
   "source": [
    "#### Ejercicio 5: Actividad integrada – Sincronización y concurrencia\n",
    "Plantea un problema donde debas procesar una lista de datos en paralelo, pero ciertos elementos requieren una operación especial que solo puede hacerse de forma segura (sincrónica y protegida).\n",
    "No se indica qué métodos usar ni cómo combinar los conceptos.\n",
    "Tu tarea: Procesa la lista de datos lo más rápido posible, asegurando que las operaciones especiales sean seguras y no haya errores de concurrencia.\n",
    "Utiliza lo aprendido en los ejercicios anteriores para resolver el problema."
   ]
  },
  {
   "cell_type": "code",
   "execution_count": null,
   "id": "1efe0a91",
   "metadata": {},
   "outputs": [],
   "source": [
    "# Ejercicio 5:"
   ]
  }
 ],
 "metadata": {
  "kernelspec": {
   "display_name": "Python 3",
   "language": "python",
   "name": "python3"
  },
  "language_info": {
   "codemirror_mode": {
    "name": "ipython",
    "version": 3
   },
   "file_extension": ".py",
   "mimetype": "text/x-python",
   "name": "python",
   "nbconvert_exporter": "python",
   "pygments_lexer": "ipython3",
   "version": "3.12.4"
  }
 },
 "nbformat": 4,
 "nbformat_minor": 5
}
