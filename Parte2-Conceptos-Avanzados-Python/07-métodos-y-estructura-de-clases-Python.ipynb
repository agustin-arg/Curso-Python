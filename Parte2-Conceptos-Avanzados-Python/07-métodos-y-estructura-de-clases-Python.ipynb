{
 "cells": [
  {
   "cell_type": "markdown",
   "id": "55b89c43",
   "metadata": {},
   "source": [
    "#### Ejercicio 1: Métodos Mágicos Básicos – `__str__`, `__repr__`\n",
    "\n",
    "Crea una clase llamada `Book` con los atributos `title`, `author` y `year`.  \n",
    "Implementa los métodos mágicos `__str__` y `__repr__` para mostrar la información del libro de manera legible y oficial, respectivamente."
   ]
  },
  {
   "cell_type": "code",
   "execution_count": null,
   "id": "48494245",
   "metadata": {},
   "outputs": [],
   "source": [
    "#Desarrollo:"
   ]
  },
  {
   "cell_type": "markdown",
   "id": "d03ad6ab",
   "metadata": {},
   "source": [
    "#### Ejercicio 2: Comparación y Suma de Objetos – `__eq__`, `__lt__`, `__add__`\n",
    "\n",
    "Amplía la clase `Book` del ejercicio anterior para que:\n",
    "- Dos libros se consideren iguales (`==`) si tienen el mismo título y autor.\n",
    "- Un libro sea considerado \"menor\" que otro (`<`) si fue publicado antes.\n",
    "- Al sumar dos libros (`+`), obtengas un nuevo libro con título y autor concatenados y el año promedio."
   ]
  },
  {
   "cell_type": "code",
   "execution_count": null,
   "id": "a1f3ac52",
   "metadata": {},
   "outputs": [],
   "source": [
    "#Desarrollo:"
   ]
  },
  {
   "cell_type": "markdown",
   "id": "ff6a5001",
   "metadata": {},
   "source": [
    "#### Ejercicio 3: Ejecución Condicional con `if __name__ == '__main__'`\n",
    "\n",
    "Crea un archivo llamado `book_utils.py` que contenga una función `print_books_info(books)` que recibe una lista de objetos `Book` y los imprime.  \n",
    "Asegúrate que esta función sólo se ejecute si el archivo se corre directamente (no al importarlo desde otro lado).  \n",
    "En tu archivo `.ipynb`, muestra cómo importar el archivo y usar la función."
   ]
  },
  {
   "cell_type": "code",
   "execution_count": null,
   "id": "5b7da135",
   "metadata": {},
   "outputs": [],
   "source": [
    "#Desarrollo:"
   ]
  },
  {
   "cell_type": "markdown",
   "id": "df74c907",
   "metadata": {},
   "source": [
    "#### Ejercicio 4: Metaprogramación – `__new__`, `__init__`, `__call__`\n",
    "\n",
    "Crea una clase llamada `Counter` que:\n",
    "- Use `__new__` para imprimir \"Creating instance...\" cuando se está creando la instancia.\n",
    "- Use `__init__` para inicializar un atributo `value` con un número inicial.\n",
    "- Use `__call__` para incrementar el valor por la cantidad que se le pase como argumento y retorne el nuevo valor."
   ]
  },
  {
   "cell_type": "code",
   "execution_count": null,
   "id": "bf477d16",
   "metadata": {},
   "outputs": [],
   "source": [
    "#Desarrollo:"
   ]
  },
  {
   "cell_type": "markdown",
   "id": "ee357075",
   "metadata": {},
   "source": [
    "#### Ejercicio 5: Uso de *args y **kwargs\n",
    "\n",
    "Crea una función llamada `create_books(*args, **kwargs)` que permita crear múltiples instancias de `Book` usando argumentos posicionales y nombrados.  \n",
    "Ejemplo:  \n",
    "`create_books((\"Title1\", \"Author1\", 2001), (\"Title2\", \"Author2\", 2008), year=2020)`  \n",
    "La función debe retornar una lista de objetos `Book`."
   ]
  },
  {
   "cell_type": "code",
   "execution_count": null,
   "id": "7aed7b93",
   "metadata": {},
   "outputs": [],
   "source": [
    "#Desarrollo:"
   ]
  },
  {
   "cell_type": "markdown",
   "id": "adf4381f",
   "metadata": {},
   "source": [
    "#### Ejercicio 6: Métodos y Atributos Privados y Protegidos\n",
    "\n",
    "Modifica la clase `Book` para agregar:\n",
    "- Un atributo protegido `_edition` (número de edición)\n",
    "- Un atributo privado `__isbn` (número ISBN)\n",
    "Implementa métodos para modificar y acceder ambos atributos respetando sus niveles de protección."
   ]
  },
  {
   "cell_type": "code",
   "execution_count": null,
   "id": "8b3ba46e",
   "metadata": {},
   "outputs": [],
   "source": [
    "#Desarrollo:"
   ]
  },
  {
   "cell_type": "markdown",
   "id": "aaba3c6c",
   "metadata": {},
   "source": [
    "#### Ejercicio 7: Uso de Property – Getter, Setter, Deleter\n",
    "\n",
    "Agrega a la clase `Book` una propiedad llamada `isbn` que permita:\n",
    "- Obtener el valor del ISBN.\n",
    "- Modificar el valor del ISBN solo si tiene 13 dígitos.\n",
    "- Eliminar el ISBN (dejarlo como `None`)."
   ]
  },
  {
   "cell_type": "code",
   "execution_count": null,
   "id": "1939e247",
   "metadata": {},
   "outputs": [],
   "source": [
    "#Desarrollo:"
   ]
  },
  {
   "cell_type": "markdown",
   "id": "1a4e229a",
   "metadata": {},
   "source": [
    "#### Ejercicio 8: Métodos Estáticos y de Clase\n",
    "\n",
    "Agrega a la clase `Book`:\n",
    "- Un método estático `is_valid_isbn(isbn)` que retorne True si el ISBN tiene 13 dígitos.\n",
    "- Un método de clase `from_string(book_str)` que reciba una cadena `\"Title,Author,Year\"` y retorne un objeto `Book`."
   ]
  },
  {
   "cell_type": "code",
   "execution_count": null,
   "id": "8274f739",
   "metadata": {},
   "outputs": [],
   "source": [
    "#Desarrollo:"
   ]
  },
  {
   "cell_type": "markdown",
   "id": "82d2fe9a",
   "metadata": {},
   "source": [
    "#### Ejercicio 9: Actividad Integradora\n",
    "\n",
    "Crea una clase `Library` que permita almacenar objetos `Book` y realizar las siguientes operaciones:\n",
    "- Agregar y eliminar libros.\n",
    "- Buscar libros por autor.\n",
    "- Obtener todos los libros ordenados por año.\n",
    "Utiliza, según lo creas conveniente, los métodos mágicos, propiedades, métodos estáticos/de clase, protección de atributos, etc.\n",
    "\n",
    "**No se indica cómo resolverlo ni qué métodos usar. Elige cómo hacerlo usando lo aprendido.**"
   ]
  },
  {
   "cell_type": "code",
   "execution_count": null,
   "id": "459be54b",
   "metadata": {},
   "outputs": [],
   "source": [
    "#Desarrollo:"
   ]
  }
 ],
 "metadata": {
  "language_info": {
   "name": "python"
  }
 },
 "nbformat": 4,
 "nbformat_minor": 5
}
