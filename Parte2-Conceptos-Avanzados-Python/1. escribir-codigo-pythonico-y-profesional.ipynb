{
 "cells": [
  {
   "cell_type": "markdown",
   "id": "2ae654c7",
   "metadata": {},
   "source": [
    "# Convenciones principales de PEP8"
   ]
  },
  {
   "cell_type": "markdown",
   "id": "dd9afc47",
   "metadata": {},
   "source": [
    "#### 1. Indentación\n",
    "\n",
    "Usa 4 espacios por nivel de indentación (no tabuladores).\n",
    "\n",
    "```python\n",
    "def mi_funcion():\n",
    "    valor = 10\n",
    "    if valor > 5:\n",
    "        print(valor)\n",
    "```"
   ]
  },
  {
   "cell_type": "markdown",
   "id": "3fbdca7e",
   "metadata": {},
   "source": [
    "#### 2. Longitud de línea\n",
    "\n",
    "Máximo 79 caracteres por línea.\n",
    "Máximo 72 caracteres para líneas de comentarios/docstrings.\n",
    "\n",
    "```python\n",
    "# Este comentario tiene menos de 72 caracteres.\n",
    "variable = 'Este string tiene menos de 79 caracteres por línea.'\n",
    "```"
   ]
  },
  {
   "cell_type": "markdown",
   "id": "3915f809",
   "metadata": {},
   "source": [
    "#### 3. Espacios en blanco\n",
    "\n",
    "- No pongas espacios en blanco al final de las líneas.\n",
    "- Separa funciones y clases con dos líneas en blanco.\n",
    "- Dentro de las funciones, separa grupos de código con una línea en blanco.\n",
    "- No pongas espacios antes de los paréntesis ni corchetes:\n",
    "\n",
    "```python\n",
    "def funcion(arg):\n",
    "    lista = [1, 2, 3]\n",
    "\n",
    "x = 1\n",
    "dict['key'] = value\n",
    "func(param=1)\n",
    "```"
   ]
  },
  {
   "cell_type": "markdown",
   "id": "5e8e10b2",
   "metadata": {},
   "source": [
    "#### 4. Nombres de variables y funciones\n",
    "\n",
    "- Nombres de variables y funciones: minúsculas, con palabras separadas por guión bajo (snake_case).\n",
    "- Nombres de clases: CamelCase.\n",
    "- Constantes: MAYÚSCULAS con guiones bajos (CONSTANTE_GLOBAL).\n",
    "\n",
    "```python\n",
    "mi_variable = 5\n",
    "def mi_funcion():\n",
    "    pass\n",
    "class MiClaseEjemplo:\n",
    "    pass\n",
    "PI = 3.1416\n",
    "```"
   ]
  },
  {
   "cell_type": "markdown",
   "id": "8a32b0b0",
   "metadata": {},
   "source": [
    "#### 5. Importaciones\n",
    "\n",
    "- Importa módulos estándar primero, luego módulos de terceros, y finalmente módulos propios.\n",
    "- Importa cada módulo en una línea separada.\n",
    "- Usa importaciones absolutas preferentemente.\n",
    "\n",
    "```python\n",
    "import os\n",
    "import sys\n",
    "import numpy as np\n",
    "import mi_modulo\n",
    "```"
   ]
  },
  {
   "cell_type": "markdown",
   "id": "0c4fa160",
   "metadata": {},
   "source": [
    "#### 6. Documentación\n",
    "\n",
    "- Usa docstrings para documentar módulos, funciones, clases y métodos.\n",
    "- Los comentarios deben ser claros y relevantes.\n",
    "\n",
    "```python\n",
    "def suma(a, b):\n",
    "    \"\"\"Suma dos números y devuelve el resultado.\"\"\"\n",
    "    # Sumar los valores\n",
    "    return a + b\n",
    "```"
   ]
  },
  {
   "cell_type": "markdown",
   "id": "6ee8267f",
   "metadata": {},
   "source": [
    "#### 7. Espaciado en expresiones\n",
    "\n",
    "- Evita espacios innecesarios dentro de paréntesis, corchetes o llaves.\n",
    "- No uses más de un espacio para alinear asignaciones.\n",
    "\n",
    "```python\n",
    "lista = [1, 2, 3]\n",
    "diccionario = {'a': 1, 'b': 2}\n",
    "x = 5\n",
    "y = 10\n",
    "```"
   ]
  },
  {
   "cell_type": "markdown",
   "id": "1ab471ca",
   "metadata": {},
   "source": [
    "#### 8. Comparaciones con None\n",
    "\n",
    "Usa is o is not para comparar con None:\n",
    "\n",
    "```python\n",
    "valor = None\n",
    "if valor is None:\n",
    "    print('Valor es None')\n",
    "```"
   ]
  },
  {
   "cell_type": "markdown",
   "id": "7b471a55",
   "metadata": {},
   "source": [
    "#### 9. Funciones y clases\n",
    "\n",
    "- Las definiciones de funciones y clases deben ir separadas por dos líneas en blanco.\n",
    "- Métodos dentro de una clase se separan por una sola línea en blanco.\n",
    "\n",
    "```python\n",
    "def funcion_uno():\n",
    "    pass\n",
    "\n",
    "def funcion_dos():\n",
    "    pass\n",
    "\n",
    "class MiClase:\n",
    "    def metodo_uno(self):\n",
    "        pass\n",
    "\n",
    "    def metodo_dos(self):\n",
    "        pass\n",
    "```"
   ]
  },
  {
   "cell_type": "markdown",
   "id": "a0db5d21",
   "metadata": {},
   "source": [
    "#### 10. Comillas\n",
    "\n",
    "Usa comillas simples o dobles de forma consistente.\n",
    "\n",
    "```python\n",
    "mensaje = 'Hola mundo'\n",
    "otro_mensaje = \"Hola mundo\"\n",
    "```"
   ]
  },
  {
   "cell_type": "markdown",
   "id": "d77e0732",
   "metadata": {},
   "source": [
    "#### 11. Encoding\n",
    "\n",
    "Coloca la declaración de encoding en la primera o segunda línea si no es UTF-8.\n",
    "\n",
    "```python\n",
    "# -*- coding: latin-1 -*-\n",
    "```"
   ]
  },
  {
   "cell_type": "markdown",
   "id": "345a5e73",
   "metadata": {},
   "source": [
    "#### 12. Espacio en blanco en listas/comas\n",
    "\n",
    "No pongas espacios antes de la coma, pero sí después.\n",
    "\n",
    "```python\n",
    "lista = [1, 2, 3]\n",
    "```"
   ]
  },
  {
   "cell_type": "markdown",
   "id": "541b76c6",
   "metadata": {},
   "source": [
    "#### 13. Bloques de código\n",
    "\n",
    "Usa una sola instrucción por línea.\n",
    "\n",
    "```python\n",
    "x = 1\n",
    "y = 2\n",
    "print(x)\n",
    "print(y)\n",
    "```"
   ]
  },
  {
   "cell_type": "markdown",
   "id": "c55b5b18",
   "metadata": {},
   "source": [
    "#### 14. Condiciones\n",
    "\n",
    "Evita condiciones como `if x == True:`. Mejor usar `if x:` o `if not x:`.\n",
    "\n",
    "```python\n",
    "activo = True\n",
    "if activo:\n",
    "    print('Está activo')\n",
    "if not activo:\n",
    "    print('No está activo')\n",
    "```"
   ]
  },
  {
   "cell_type": "markdown",
   "id": "8febfe43",
   "metadata": {},
   "source": [
    "#### 15. Excepciones\n",
    "\n",
    "Usa la sintaxis moderna:\n",
    "\n",
    "```python\n",
    "try:\n",
    "    resultado = 10 / 0\n",
    "except Exception as e:\n",
    "    print('Ocurrió un error:', e)\n",
    "```"
   ]
  }
 ],
 "metadata": {
  "language_info": {
   "name": "python"
  }
 },
 "nbformat": 4,
 "nbformat_minor": 5
}
