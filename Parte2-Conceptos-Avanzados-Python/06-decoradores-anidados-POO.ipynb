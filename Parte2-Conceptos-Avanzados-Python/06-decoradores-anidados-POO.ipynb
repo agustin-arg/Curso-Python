{
 "cells": [
  {
   "cell_type": "markdown",
   "id": "7059a3f2",
   "metadata": {},
   "source": [
    "#### Ejercicio 1: Decoradores básicos – Extender funcionalidades\n",
    "\n",
    "Crea un decorador llamado `log_function` que imprima el nombre de la función que se ejecuta y sus argumentos antes de llamar a la función original.  \n",
    "Luego, úsalo para decorar una función llamada `multiply(a, b)` que devuelve el producto de ambos números.  \n",
    "Demuestra cómo funciona llamando a `multiply(3, 5)`."
   ]
  },
  {
   "cell_type": "code",
   "execution_count": null,
   "id": "645918c8",
   "metadata": {},
   "outputs": [
    {
     "name": "stdout",
     "output_type": "stream",
     "text": [
      "Se ejecuto la funcion log_fuction\n"
     ]
    },
    {
     "data": {
      "text/plain": [
       "12"
      ]
     },
     "execution_count": 1,
     "metadata": {},
     "output_type": "execute_result"
    }
   ],
   "source": [
    "def log_function(func):\n",
    "    def wrapper(*args, **kwargs):\n",
    "        print('Se ejecuto la funcion log_fuction')\n",
    "        return func(*args, **kwargs)\n",
    "    return (wrapper)\n",
    "\n",
    "@log_function\n",
    "def multiply(a:int, b: int) -> int:\n",
    "    return (a*b)\n",
    "\n",
    "multiply(3, 4)"
   ]
  },
  {
   "cell_type": "markdown",
   "id": "54fe845b",
   "metadata": {},
   "source": [
    "#### Ejercicio 2: Decorador anidado y con parámetros – Validación de entrada\n",
    "\n",
    "Define un decorador llamado `validate_positive` que reciba un parámetro `allow_zero` (booleano).  \n",
    "Este decorador debe asegurarse de que todos los argumentos numéricos de la función sean positivos (o cero si `allow_zero` es True).  \n",
    "Decora una función llamada `add_numbers(a, b)` y muestra ejemplos de uso con números negativos, positivos y cero."
   ]
  },
  {
   "cell_type": "code",
   "execution_count": null,
   "id": "f1338207",
   "metadata": {},
   "outputs": [
    {
     "name": "stdout",
     "output_type": "stream",
     "text": [
      "11\n",
      "Error: hay un número el cual no es el esperado (-6)\n",
      "Error: hay un número el cual no es el esperado (0)\n"
     ]
    }
   ],
   "source": [
    "def validate_positive(allow_zero = True):\n",
    "    def decorator(func):\n",
    "        def wrapper(*args, **kwargs):\n",
    "            for num in args:\n",
    "                if allow_zero:\n",
    "                    if num <= 0:\n",
    "                        return f'Error: hay un número el cual no es el esperado ({num})'\n",
    "                else:\n",
    "                    if num < 0:\n",
    "                        return f'Error: hay un número el cual no es el esperado ({num})'\n",
    "            return func(*args, **kwargs)\n",
    "        return wrapper\n",
    "    return decorator\n",
    "\n",
    "@validate_positive(allow_zero = True)\n",
    "def add_numbers(a: int ,b: int ) ->int:\n",
    "    return a + b\n",
    "\n",
    "print(add_numbers(5, 6))\n",
    "print(add_numbers(5, -6))\n",
    "print(add_numbers(0, 6))"
   ]
  },
  {
   "cell_type": "markdown",
   "id": "8aaaf7bf",
   "metadata": {},
   "source": [
    "#### Ejercicio 3: Decoradores en clases – Métodos estáticos y de clase\n",
    "\n",
    "Crea una clase llamada `Employee` con los siguientes métodos:\n",
    "- Un método estático `company_name()` que devuelve el nombre de la empresa (\"OpenAI\").\n",
    "- Un método de clase `create_with_default_salary(cls, name)` que retorna una instancia de Employee con un salario predeterminado de 4000.\n",
    "- El constructor debe recibir `name` y `salary`.\n",
    "Demuestra cómo usar ambos métodos para crear empleados y obtener el nombre de la empresa."
   ]
  },
  {
   "cell_type": "code",
   "execution_count": null,
   "id": "04af7a85",
   "metadata": {},
   "outputs": [],
   "source": []
  },
  {
   "cell_type": "markdown",
   "id": "e37b3a1f",
   "metadata": {},
   "source": [
    "#### Ejercicio 4: Uso de @property – Acceso controlado a atributos\n",
    "\n",
    "Agrega a tu clase `Employee` una propiedad llamada `salary` que permita leer el salario, y un setter que solo permita establecer el salario si es mayor a 3000.  \n",
    "Si se intenta asignar un salario menor, debe imprimir un mensaje de advertencia y no cambiar el valor.  \n",
    "Haz ejemplos mostrando cómo funciona el getter y el setter."
   ]
  },
  {
   "cell_type": "code",
   "execution_count": null,
   "id": "923d0faf",
   "metadata": {},
   "outputs": [],
   "source": []
  },
  {
   "cell_type": "markdown",
   "id": "bf76689d",
   "metadata": {},
   "source": [
    "#### Ejercicio 5: Actividad integrada – Decoradores y POO sin dirección explícita\n",
    "\n",
    "Plantea una clase llamada `Product` con atributos y funcionalidades que tú elijas (por ejemplo, nombre, precio, cantidad, etc.).  \n",
    "Implementa al menos dos tipos distintos de decorador (pueden ser de función o de clase, anidados, con parámetros, estáticos, de clase o propiedades) para extender o controlar el comportamiento en la clase.  \n",
    "Crea un pequeño script que demuestre cómo funcionan estos decoradores en la clase `Product`.\n",
    "\n",
    "**No se indica cómo deben ser los decoradores ni qué métodos usar, tú decides cómo resolverlo usando lo aprendido.**"
   ]
  },
  {
   "cell_type": "code",
   "execution_count": null,
   "id": "fd608334",
   "metadata": {},
   "outputs": [],
   "source": []
  }
 ],
 "metadata": {
  "kernelspec": {
   "display_name": "Python 3",
   "language": "python",
   "name": "python3"
  },
  "language_info": {
   "codemirror_mode": {
    "name": "ipython",
    "version": 3
   },
   "file_extension": ".py",
   "mimetype": "text/x-python",
   "name": "python",
   "nbconvert_exporter": "python",
   "pygments_lexer": "ipython3",
   "version": "3.12.4"
  }
 },
 "nbformat": 4,
 "nbformat_minor": 5
}
