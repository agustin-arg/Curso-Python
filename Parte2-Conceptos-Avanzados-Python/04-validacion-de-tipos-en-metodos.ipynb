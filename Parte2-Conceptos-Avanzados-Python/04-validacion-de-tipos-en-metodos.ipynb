{
 "cells": [
  {
   "cell_type": "markdown",
   "id": "60500b12",
   "metadata": {},
   "source": [
    "#### Ejercicio 1: isinstance y raise TypeError – Verificación de tipo\n",
    "\n",
    "Crea una función llamada `double_number(num)` que reciba un parámetro.  \n",
    "Si `num` no es de tipo entero o flotante, lanza un `TypeError` con un mensaje.  \n",
    "Si el tipo es correcto, devuelve el doble del número."
   ]
  },
  {
   "cell_type": "code",
   "execution_count": 5,
   "id": "3b68cd93",
   "metadata": {},
   "outputs": [
    {
     "name": "stdout",
     "output_type": "stream",
     "text": [
      "6.0\n",
      "10.2\n"
     ]
    },
    {
     "ename": "TypeError",
     "evalue": "EL tipo ingresado no corresponde con la funcion\n          Valor ingresado: 4\n          De tipo: <class 'str'>",
     "output_type": "error",
     "traceback": [
      "\u001b[1;31m---------------------------------------------------------------------------\u001b[0m",
      "\u001b[1;31mTypeError\u001b[0m                                 Traceback (most recent call last)",
      "Cell \u001b[1;32mIn[5], line 13\u001b[0m\n\u001b[0;32m     11\u001b[0m \u001b[38;5;28mprint\u001b[39m(double_number(\u001b[38;5;241m3\u001b[39m))\n\u001b[0;32m     12\u001b[0m \u001b[38;5;28mprint\u001b[39m(double_number(\u001b[38;5;241m5.1\u001b[39m))\n\u001b[1;32m---> 13\u001b[0m \u001b[38;5;28mprint\u001b[39m(\u001b[43mdouble_number\u001b[49m\u001b[43m(\u001b[49m\u001b[38;5;124;43m'\u001b[39;49m\u001b[38;5;124;43m4\u001b[39;49m\u001b[38;5;124;43m'\u001b[39;49m\u001b[43m)\u001b[49m)\n",
      "Cell \u001b[1;32mIn[5], line 5\u001b[0m, in \u001b[0;36mdouble_number\u001b[1;34m(num)\u001b[0m\n\u001b[0;32m      3\u001b[0m \u001b[38;5;28;01mdef\u001b[39;00m \u001b[38;5;21mdouble_number\u001b[39m(num: Union[\u001b[38;5;28mint\u001b[39m,\u001b[38;5;28mfloat\u001b[39m]) \u001b[38;5;241m-\u001b[39m\u001b[38;5;241m>\u001b[39m \u001b[38;5;28mfloat\u001b[39m:\n\u001b[0;32m      4\u001b[0m         \u001b[38;5;28;01mif\u001b[39;00m \u001b[38;5;129;01mnot\u001b[39;00m \u001b[38;5;28misinstance\u001b[39m(num, (\u001b[38;5;28mint\u001b[39m, \u001b[38;5;28mfloat\u001b[39m)):\n\u001b[1;32m----> 5\u001b[0m             \u001b[38;5;28;01mraise\u001b[39;00m \u001b[38;5;167;01mTypeError\u001b[39;00m(\u001b[38;5;124mf\u001b[39m\u001b[38;5;124m'''\u001b[39m\u001b[38;5;124mEL tipo ingresado no corresponde con la funcion\u001b[39m\n\u001b[0;32m      6\u001b[0m \u001b[38;5;124m          Valor ingresado: \u001b[39m\u001b[38;5;132;01m{\u001b[39;00mnum\u001b[38;5;132;01m}\u001b[39;00m\n\u001b[0;32m      7\u001b[0m \u001b[38;5;124m          De tipo: \u001b[39m\u001b[38;5;132;01m{\u001b[39;00m\u001b[38;5;28mtype\u001b[39m(num)\u001b[38;5;132;01m}\u001b[39;00m\u001b[38;5;124m'''\u001b[39m)\n\u001b[0;32m      8\u001b[0m         \u001b[38;5;28;01melse\u001b[39;00m:\n\u001b[0;32m      9\u001b[0m             \u001b[38;5;28;01mreturn\u001b[39;00m \u001b[38;5;28mfloat\u001b[39m(num\u001b[38;5;241m*\u001b[39m\u001b[38;5;241m2\u001b[39m)\n",
      "\u001b[1;31mTypeError\u001b[0m: EL tipo ingresado no corresponde con la funcion\n          Valor ingresado: 4\n          De tipo: <class 'str'>"
     ]
    }
   ],
   "source": [
    "from typing import Union\n",
    "\n",
    "def double_number(num: Union[int,float]) -> float:\n",
    "        if not isinstance(num, (int, float)):\n",
    "            raise TypeError(f'''EL tipo ingresado no corresponde con la funcion\n",
    "          Valor ingresado: {num}\n",
    "          De tipo: {type(num)}''')\n",
    "        else:\n",
    "            return float(num*2)\n",
    "\n",
    "print(double_number(3))\n",
    "print(double_number(5.1))\n",
    "print(double_number('4'))\n",
    "\n"
   ]
  },
  {
   "cell_type": "markdown",
   "id": "e2da7a14",
   "metadata": {},
   "source": [
    "#### Ejercicio 2: raise ValueError – Verificación de valor\n",
    "\n",
    "Crea una función llamada `get_age(age)` que reciba un parámetro.  \n",
    "Si `age` no es un entero, lanza un `TypeError`.  \n",
    "Si `age` es menor a 0 o mayor a 120, lanza un `ValueError` con un mensaje claro.  \n",
    "Si es válido, devuelve el valor de `age`."
   ]
  },
  {
   "cell_type": "code",
   "execution_count": null,
   "id": "9c7925f1",
   "metadata": {},
   "outputs": [],
   "source": []
  },
  {
   "cell_type": "markdown",
   "id": "55a18bdb",
   "metadata": {},
   "source": [
    "#### Ejercicio 3: try/except TypeError – Manejo de errores de tipo\n",
    "\n",
    "Escribe un programa que le pida al usuario un valor, intente convertirlo a entero y luego muestre el resultado multiplicado por 10.  \n",
    "Si ocurre un `TypeError`, captúralo y muestra un mensaje de error personalizado."
   ]
  },
  {
   "cell_type": "code",
   "execution_count": null,
   "id": "2c8026fa",
   "metadata": {},
   "outputs": [],
   "source": []
  },
  {
   "cell_type": "markdown",
   "id": "6e11eaf0",
   "metadata": {},
   "source": [
    "#### Ejercicio 4: try/except (TypeError, ValueError) – Manejo de múltiples errores\n",
    "\n",
    "Escribe una función `process_score(score)` que intente convertir `score` a entero y verifique si está entre 0 y 100.  \n",
    "Si ocurre un `TypeError` o `ValueError`, captúralo y muestra un mensaje de error.  \n",
    "Si es válido, muestra: \"Score accepted: <score>\""
   ]
  },
  {
   "cell_type": "code",
   "execution_count": null,
   "id": "89559b69",
   "metadata": {},
   "outputs": [],
   "source": []
  },
  {
   "cell_type": "markdown",
   "id": "8aeefd92",
   "metadata": {},
   "source": [
    "#### Ejercicio 5: Desafío integrado – Manejo de errores en un escenario real\n",
    "\n",
    "Escribe un programa que reciba del usuario una lista de edades (como cadenas), separadas por comas.  \n",
    "Convierte cada edad a entero y verifica si es válida (entre 0 y 120).  \n",
    "Para cada valor, muestra si es válido o no.  \n",
    "Si ocurre algún error (tipo o valor incorrecto), manéjalo de forma adecuada y continúa procesando las demás edades."
   ]
  },
  {
   "cell_type": "code",
   "execution_count": null,
   "id": "12d07d13",
   "metadata": {},
   "outputs": [],
   "source": []
  }
 ],
 "metadata": {
  "kernelspec": {
   "display_name": "Python 3",
   "language": "python",
   "name": "python3"
  },
  "language_info": {
   "codemirror_mode": {
    "name": "ipython",
    "version": 3
   },
   "file_extension": ".py",
   "mimetype": "text/x-python",
   "name": "python",
   "nbconvert_exporter": "python",
   "pygments_lexer": "ipython3",
   "version": "3.12.4"
  }
 },
 "nbformat": 4,
 "nbformat_minor": 5
}
