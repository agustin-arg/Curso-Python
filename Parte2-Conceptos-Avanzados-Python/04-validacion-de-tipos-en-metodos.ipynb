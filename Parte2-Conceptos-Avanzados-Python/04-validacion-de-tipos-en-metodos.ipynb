{
 "cells": [
  {
   "cell_type": "markdown",
   "id": "60500b12",
   "metadata": {},
   "source": [
    "#### Ejercicio 1: isinstance y raise TypeError – Verificación de tipo\n",
    "\n",
    "Crea una función llamada `double_number(num)` que reciba un parámetro.  \n",
    "Si `num` no es de tipo entero o flotante, lanza un `TypeError` con un mensaje.  \n",
    "Si el tipo es correcto, devuelve el doble del número."
   ]
  },
  {
   "cell_type": "code",
   "execution_count": 12,
   "id": "3b68cd93",
   "metadata": {},
   "outputs": [
    {
     "name": "stdout",
     "output_type": "stream",
     "text": [
      "6.0\n",
      "10.2\n",
      "EL tipo ingresado no corresponde con la funcion\n",
      "            Valor ingresado: 4\n",
      "            De tipo: <class 'str'>\n"
     ]
    }
   ],
   "source": [
    "try:\n",
    "    from typing import Union\n",
    "\n",
    "    def double_number(num: Union[int,float]) -> float:\n",
    "            if not isinstance(num, (int, float)):\n",
    "                raise TypeError(f'''EL tipo ingresado no corresponde con la funcion\n",
    "            Valor ingresado: {num}\n",
    "            De tipo: {type(num)}''')\n",
    "            else:\n",
    "                return float(num*2)\n",
    "\n",
    "    print(double_number(3))\n",
    "    print(double_number(5.1))\n",
    "    print(double_number('4'))\n",
    "except TypeError as e:\n",
    "    print(e)"
   ]
  },
  {
   "cell_type": "markdown",
   "id": "e2da7a14",
   "metadata": {},
   "source": [
    "#### Ejercicio 2: raise ValueError – Verificación de valor\n",
    "\n",
    "Crea una función llamada `get_age(age)` que reciba un parámetro.  \n",
    "Si `age` no es un entero, lanza un `TypeError`.  \n",
    "Si `age` es menor a 0 o mayor a 120, lanza un `ValueError` con un mensaje claro.  \n",
    "Si es válido, devuelve el valor de `age`."
   ]
  },
  {
   "cell_type": "code",
   "execution_count": 15,
   "id": "9c7925f1",
   "metadata": {},
   "outputs": [
    {
     "name": "stdout",
     "output_type": "stream",
     "text": [
      "0\n",
      "El valor (-1) no corresponde al valor esperado\n",
      "El valor (2) no corresponde al tipo de variable esperado\n",
      "El valor ([5, 2]) no corresponde al tipo de variable esperado\n",
      "El valor (130) no corresponde al valor esperado\n",
      "60\n"
     ]
    }
   ],
   "source": [
    "def get_age(age: int) -> int:\n",
    "    if not isinstance(age, int):\n",
    "        raise TypeError(f'El valor ({age}) no corresponde al tipo de variable esperado')\n",
    "    elif age < 0 or age > 120:\n",
    "        raise ValueError(f'El valor ({age}) no corresponde al valor esperado')\n",
    "    else:\n",
    "        return age\n",
    "\n",
    "list_ages = [0, -1, '2', [5,2], 130, 60]\n",
    "\n",
    "for age in list_ages:\n",
    "    try:\n",
    "        print(get_age(age))\n",
    "    except TypeError as e:\n",
    "        print(e)\n",
    "    except ValueError as e:\n",
    "        print(e)"
   ]
  },
  {
   "cell_type": "markdown",
   "id": "55a18bdb",
   "metadata": {},
   "source": [
    "#### Ejercicio 3: try/except TypeError – Manejo de errores de tipo\n",
    "\n",
    "Escribe un programa que le pida al usuario un valor, intente convertirlo a entero y luego muestre el resultado multiplicado por 10.  \n",
    "Si ocurre un `TypeError`, captúralo y muestra un mensaje de error personalizado."
   ]
  },
  {
   "cell_type": "code",
   "execution_count": null,
   "id": "2c8026fa",
   "metadata": {},
   "outputs": [],
   "source": []
  },
  {
   "cell_type": "markdown",
   "id": "6e11eaf0",
   "metadata": {},
   "source": [
    "#### Ejercicio 4: try/except (TypeError, ValueError) – Manejo de múltiples errores\n",
    "\n",
    "Escribe una función `process_score(score)` que intente convertir `score` a entero y verifique si está entre 0 y 100.  \n",
    "Si ocurre un `TypeError` o `ValueError`, captúralo y muestra un mensaje de error.  \n",
    "Si es válido, muestra: \"Score accepted: <score>\""
   ]
  },
  {
   "cell_type": "code",
   "execution_count": null,
   "id": "89559b69",
   "metadata": {},
   "outputs": [],
   "source": []
  },
  {
   "cell_type": "markdown",
   "id": "8aeefd92",
   "metadata": {},
   "source": [
    "#### Ejercicio 5: Desafío integrado – Manejo de errores en un escenario real\n",
    "\n",
    "Escribe un programa que reciba del usuario una lista de edades (como cadenas), separadas por comas.  \n",
    "Convierte cada edad a entero y verifica si es válida (entre 0 y 120).  \n",
    "Para cada valor, muestra si es válido o no.  \n",
    "Si ocurre algún error (tipo o valor incorrecto), manéjalo de forma adecuada y continúa procesando las demás edades."
   ]
  },
  {
   "cell_type": "code",
   "execution_count": null,
   "id": "12d07d13",
   "metadata": {},
   "outputs": [],
   "source": []
  }
 ],
 "metadata": {
  "kernelspec": {
   "display_name": "Python 3",
   "language": "python",
   "name": "python3"
  },
  "language_info": {
   "codemirror_mode": {
    "name": "ipython",
    "version": 3
   },
   "file_extension": ".py",
   "mimetype": "text/x-python",
   "name": "python",
   "nbconvert_exporter": "python",
   "pygments_lexer": "ipython3",
   "version": "3.12.4"
  }
 },
 "nbformat": 4,
 "nbformat_minor": 5
}
