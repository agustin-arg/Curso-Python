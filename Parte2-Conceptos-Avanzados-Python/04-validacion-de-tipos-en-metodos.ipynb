{
 "cells": [
  {
   "cell_type": "markdown",
   "id": "60500b12",
   "metadata": {},
   "source": [
    "#### Ejercicio 1: isinstance y raise TypeError – Verificación de tipo\n",
    "\n",
    "Crea una función llamada `double_number(num)` que reciba un parámetro.  \n",
    "Si `num` no es de tipo entero o flotante, lanza un `TypeError` con un mensaje.  \n",
    "Si el tipo es correcto, devuelve el doble del número."
   ]
  },
  {
   "cell_type": "code",
   "execution_count": null,
   "id": "3b68cd93",
   "metadata": {},
   "outputs": [
    {
     "name": "stdout",
     "output_type": "stream",
     "text": [
      "6.0\n",
      "10.2\n",
      "EL tipo ingresado no corresponde con la funcion\n",
      "            Valor ingresado: 4\n",
      "            De tipo: <class 'str'>\n"
     ]
    }
   ],
   "source": [
    "from typing import Union\n",
    "\n",
    "try:\n",
    "\n",
    "    def double_number(num: Union[int,float]) -> float:\n",
    "        '''\n",
    "        Devuelve el valor multiplicado por 2\n",
    "        '''\n",
    "        if not isinstance(num, (int, float)):\n",
    "            raise TypeError(f'''EL tipo ingresado no corresponde con la funcion\n",
    "        Valor ingresado: {num}\n",
    "        De tipo: {type(num)}''')\n",
    "        else:\n",
    "            return float(num*2)\n",
    "\n",
    "    print(double_number(3))\n",
    "    print(double_number(5.1))\n",
    "    print(double_number('4'))\n",
    "except TypeError as e:\n",
    "    print(e)"
   ]
  },
  {
   "cell_type": "markdown",
   "id": "e2da7a14",
   "metadata": {},
   "source": [
    "#### Ejercicio 2: raise ValueError – Verificación de valor\n",
    "\n",
    "Crea una función llamada `get_age(age)` que reciba un parámetro.  \n",
    "Si `age` no es un entero, lanza un `TypeError`.  \n",
    "Si `age` es menor a 0 o mayor a 120, lanza un `ValueError` con un mensaje claro.  \n",
    "Si es válido, devuelve el valor de `age`."
   ]
  },
  {
   "cell_type": "code",
   "execution_count": null,
   "id": "9c7925f1",
   "metadata": {},
   "outputs": [
    {
     "name": "stdout",
     "output_type": "stream",
     "text": [
      "0\n",
      "El valor (-1) no corresponde al valor esperado\n",
      "El valor (2) no corresponde al tipo de variable esperado\n",
      "El valor ([5, 2]) no corresponde al tipo de variable esperado\n",
      "El valor (130) no corresponde al valor esperado\n",
      "60\n"
     ]
    }
   ],
   "source": [
    "def get_age(age: int) -> int:\n",
    "    '''\n",
    "    Comprueba si el valor de la edad corresponde\n",
    "    si es así, lo devuleve\n",
    "    '''\n",
    "    if not isinstance(age, int):\n",
    "        raise TypeError(f'El valor ({age}) no corresponde al tipo de variable esperado')\n",
    "    elif age < 0 or age > 120:\n",
    "        raise ValueError(f'El valor ({age}) no corresponde al valor esperado')\n",
    "    else:\n",
    "        return age\n",
    "\n",
    "list_ages = [0, -1, '2', [5,2], 130, 60]\n",
    "\n",
    "for age in list_ages:\n",
    "    try:\n",
    "        print(get_age(age))\n",
    "    except TypeError as e:\n",
    "        print(e)\n",
    "    except ValueError as e:\n",
    "        print(e)"
   ]
  },
  {
   "cell_type": "markdown",
   "id": "55a18bdb",
   "metadata": {},
   "source": [
    "#### Ejercicio 3: try/except TypeError – Manejo de errores de tipo\n",
    "\n",
    "Escribe un programa que le pida al usuario un valor, intente convertirlo a entero y luego muestre el resultado multiplicado por 10.  \n",
    "Si ocurre un `TypeError`, captúralo y muestra un mensaje de error personalizado."
   ]
  },
  {
   "cell_type": "code",
   "execution_count": null,
   "id": "2c8026fa",
   "metadata": {},
   "outputs": [
    {
     "name": "stdout",
     "output_type": "stream",
     "text": [
      "No se pudo convertir el valor ingresado a entero.\n"
     ]
    }
   ],
   "source": [
    "try:\n",
    "    def process_score(num: int) -> int:\n",
    "        '''\n",
    "        Devuelve el valor multiplicado por 10\n",
    "        '''\n",
    "        if not isinstance(num, int):\n",
    "            raise TypeError(f'''EL tipo de variable ingresado no es el esperado\n",
    "            Valor ingresado: {num}\n",
    "            De tipo: {type(num)}''')\n",
    "        else:\n",
    "            return num * 10\n",
    "\n",
    "    user_input = input('Ingresar el valor que desea multiplicar por 10: ')\n",
    "    score = int(user_input) \n",
    "    print(process_score(score))\n",
    "\n",
    "except ValueError:\n",
    "    print('No se pudo convertir el valor ingresado a entero.')\n",
    "except TypeError as e:\n",
    "    print(e)"
   ]
  },
  {
   "cell_type": "markdown",
   "id": "6e11eaf0",
   "metadata": {},
   "source": [
    "#### Ejercicio 4: try/except (TypeError, ValueError) – Manejo de múltiples errores\n",
    "\n",
    "Escribe una función `process_score(score)` que intente convertir `score` a entero y verifique si está entre 0 y 100.  \n",
    "Si ocurre un `TypeError` o `ValueError`, captúralo y muestra un mensaje de error.  \n",
    "Si es válido, muestra: \"Score accepted: <score>\""
   ]
  },
  {
   "cell_type": "code",
   "execution_count": 24,
   "id": "89559b69",
   "metadata": {},
   "outputs": [
    {
     "name": "stdout",
     "output_type": "stream",
     "text": [
      "Score accepted: 85\n",
      "Error: El valor (105) no está entre 0 y 100\n",
      "Error: invalid literal for int() with base 10: 'abc'\n",
      "Error: El valor (-5) no está entre 0 y 100\n",
      "Score accepted: 99\n"
     ]
    },
    {
     "data": {
      "text/plain": [
       "99"
      ]
     },
     "execution_count": 24,
     "metadata": {},
     "output_type": "execute_result"
    }
   ],
   "source": [
    "from typing import Union\n",
    "\n",
    "def process_score(score: Union[int, float]) -> int:\n",
    "    '''\n",
    "    convertir score a entero y verifique si está entre 0 y 100.\n",
    "    '''\n",
    "    try:\n",
    "        score_int = int(score)  \n",
    "        if score_int < 0 or score_int > 100:\n",
    "            raise ValueError(f\"El valor ({score_int}) no está entre 0 y 100\")\n",
    "        print(f\"Score accepted: {score_int}\")\n",
    "        return score_int\n",
    "    except (TypeError, ValueError) as e:\n",
    "        print(f\"Error: {e}\")\n",
    "        \n",
    "process_score(85)\n",
    "process_score(105.7)\n",
    "process_score('abc')   \n",
    "process_score(-5) \n",
    "process_score(99.9) \n"
   ]
  }
 ],
 "metadata": {
  "kernelspec": {
   "display_name": "Python 3",
   "language": "python",
   "name": "python3"
  },
  "language_info": {
   "codemirror_mode": {
    "name": "ipython",
    "version": 3
   },
   "file_extension": ".py",
   "mimetype": "text/x-python",
   "name": "python",
   "nbconvert_exporter": "python",
   "pygments_lexer": "ipython3",
   "version": "3.12.4"
  }
 },
 "nbformat": 4,
 "nbformat_minor": 5
}
