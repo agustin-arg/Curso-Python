{
 "cells": [
  {
   "cell_type": "markdown",
   "id": "60500b12",
   "metadata": {},
   "source": [
    "#### Ejercicio 1: isinstance y raise TypeError – Verificación de tipo\n",
    "\n",
    "Crea una función llamada `double_number(num)` que reciba un parámetro.  \n",
    "Si `num` no es de tipo entero o flotante, lanza un `TypeError` con un mensaje.  \n",
    "Si el tipo es correcto, devuelve el doble del número."
   ]
  },
  {
   "cell_type": "code",
   "execution_count": null,
   "id": "3b68cd93",
   "metadata": {},
   "outputs": [],
   "source": []
  },
  {
   "cell_type": "markdown",
   "id": "e2da7a14",
   "metadata": {},
   "source": [
    "#### Ejercicio 2: raise ValueError – Verificación de valor\n",
    "\n",
    "Crea una función llamada `get_age(age)` que reciba un parámetro.  \n",
    "Si `age` no es un entero, lanza un `TypeError`.  \n",
    "Si `age` es menor a 0 o mayor a 120, lanza un `ValueError` con un mensaje claro.  \n",
    "Si es válido, devuelve el valor de `age`."
   ]
  },
  {
   "cell_type": "code",
   "execution_count": null,
   "id": "9c7925f1",
   "metadata": {},
   "outputs": [],
   "source": []
  },
  {
   "cell_type": "markdown",
   "id": "55a18bdb",
   "metadata": {},
   "source": [
    "#### Ejercicio 3: try/except TypeError – Manejo de errores de tipo\n",
    "\n",
    "Escribe un programa que le pida al usuario un valor, intente convertirlo a entero y luego muestre el resultado multiplicado por 10.  \n",
    "Si ocurre un `TypeError`, captúralo y muestra un mensaje de error personalizado."
   ]
  },
  {
   "cell_type": "code",
   "execution_count": null,
   "id": "2c8026fa",
   "metadata": {},
   "outputs": [],
   "source": []
  },
  {
   "cell_type": "markdown",
   "id": "6e11eaf0",
   "metadata": {},
   "source": [
    "#### Ejercicio 4: try/except (TypeError, ValueError) – Manejo de múltiples errores\n",
    "\n",
    "Escribe una función `process_score(score)` que intente convertir `score` a entero y verifique si está entre 0 y 100.  \n",
    "Si ocurre un `TypeError` o `ValueError`, captúralo y muestra un mensaje de error.  \n",
    "Si es válido, muestra: \"Score accepted: <score>\""
   ]
  },
  {
   "cell_type": "code",
   "execution_count": null,
   "id": "89559b69",
   "metadata": {},
   "outputs": [],
   "source": []
  },
  {
   "cell_type": "markdown",
   "id": "8aeefd92",
   "metadata": {},
   "source": [
    "#### Ejercicio 5: Desafío integrado – Manejo de errores en un escenario real\n",
    "\n",
    "Escribe un programa que reciba del usuario una lista de edades (como cadenas), separadas por comas.  \n",
    "Convierte cada edad a entero y verifica si es válida (entre 0 y 120).  \n",
    "Para cada valor, muestra si es válido o no.  \n",
    "Si ocurre algún error (tipo o valor incorrecto), manéjalo de forma adecuada y continúa procesando las demás edades."
   ]
  },
  {
   "cell_type": "code",
   "execution_count": null,
   "id": "12d07d13",
   "metadata": {},
   "outputs": [],
   "source": []
  }
 ],
 "metadata": {
  "language_info": {
   "name": "python"
  }
 },
 "nbformat": 4,
 "nbformat_minor": 5
}
