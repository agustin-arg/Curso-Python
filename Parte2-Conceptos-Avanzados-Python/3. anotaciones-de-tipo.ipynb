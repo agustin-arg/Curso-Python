{
 "cells": [
  {
   "cell_type": "markdown",
   "id": "0e1c1b9d",
   "metadata": {},
   "source": [
    "#### Ejercicio 1: Variable annotations – Declarar tipos de variables\n",
    "\n",
    "Declara tres variables con anotaciones de tipo:\n",
    "- employee_id: int\n",
    "- employee_name: str\n",
    "- employee_salary: float\n",
    "\n",
    "Asigna valores apropiados a cada variable.  \n",
    "Imprime los valores para verificar que están bien asignados."
   ]
  },
  {
   "cell_type": "code",
   "execution_count": 2,
   "id": "839fd437",
   "metadata": {},
   "outputs": [
    {
     "name": "stdout",
     "output_type": "stream",
     "text": [
      "El ID del empleado es: 46220629.5\n",
      "El nombre del empleado es: Javier\n",
      "El salario del empleado es: 2800.45\n"
     ]
    }
   ],
   "source": [
    "employee_id: int = 46220629\n",
    "employee_name: str = 'Javier'\n",
    "employee_salary: float = 2800.45\n",
    "\n",
    "print(f'El ID del empleado es: {employee_id}')\n",
    "print(f'El nombre del empleado es: {employee_name}')\n",
    "print(f'El salario del empleado es: {employee_salary}')"
   ]
  },
  {
   "cell_type": "markdown",
   "id": "52b55db9",
   "metadata": {},
   "source": [
    "#### Ejercicio 2: Function annotations – Sumar salarios\n",
    "\n",
    "Crea una función llamada `sum_salaries(salary1: float, salary2: float) -> float`  \n",
    "La función debe devolver la suma de ambos salarios.  \n",
    "Prueba la función con dos valores y muestra el resultado."
   ]
  },
  {
   "cell_type": "code",
   "execution_count": 5,
   "id": "9d472757",
   "metadata": {},
   "outputs": [
    {
     "name": "stdout",
     "output_type": "stream",
     "text": [
      "3801.3599999999997\n",
      "3801.36\n"
     ]
    }
   ],
   "source": [
    "def sum_salaries(salary1: float, salary2: float) -> float:\n",
    "    '''\n",
    "    Devuelve la suma de ambos salarios\n",
    "    '''\n",
    "    return salary1 + salary2\n",
    "\n",
    "employee_salary1: float = 2800.45\n",
    "employee_salary2: float = 1000.91\n",
    "\n",
    "print(sum_salaries(employee_salary1,employee_salary2))\n",
    "#Es una buena practica redondear los numeros\n",
    "print(round(sum_salaries(employee_salary1,employee_salary2),2))"
   ]
  },
  {
   "cell_type": "markdown",
   "id": "9b6f8727",
   "metadata": {},
   "source": [
    "#### Ejercicio 3: Optional – Buscar un empleado por nombre\n",
    "\n",
    "Usando `from typing import Optional`, crea una función  \n",
    "`find_employee(employees: list[str], name: str) -> Optional[str]`  \n",
    "La función debe devolver el nombre del empleado si existe en la lista, o None si no existe.  \n",
    "Prueba la función con una lista de nombres y muestra el resultado."
   ]
  },
  {
   "cell_type": "code",
   "execution_count": 42,
   "id": "1b6ab75b",
   "metadata": {},
   "outputs": [
    {
     "name": "stdout",
     "output_type": "stream",
     "text": [
      "Bob\n",
      "None\n"
     ]
    }
   ],
   "source": [
    "import random\n",
    "from typing import Optional\n",
    "\n",
    "def find_employee(employees: list[str], name: str) -> Optional[str]:\n",
    "    ''''\n",
    "    Devuelve en nombre del empleado si existe en la lista\n",
    "    de lo contraerio, None\n",
    "    '''\n",
    "    if name in employees:\n",
    "        return name\n",
    "    else:\n",
    "        return\n",
    "\n",
    "employees = [\"Alice\", \"Bob\", \"Charlie\", \"Diana\", \"Eve\"]\n",
    "name = employees[random.randint(0,len(employees)-1)]\n",
    "print(find_employee(employees,name))\n",
    "print(find_employee(employees,'Carly'))\n"
   ]
  },
  {
   "cell_type": "markdown",
   "id": "6e9f7c7a",
   "metadata": {},
   "source": [
    "#### Ejercicio 4: Union – Procesar edad de empleado\n",
    "\n",
    "Usando `from typing import Union`, crea una función  \n",
    "`process_age(age: Union[int, str]) -> int`  \n",
    "La función debe convertir el valor recibido a entero y devolverlo.  \n",
    "Prueba la función con diferentes tipos de entrada (por ejemplo, \"30\" y 25)."
   ]
  },
  {
   "cell_type": "code",
   "execution_count": 53,
   "id": "359610e6",
   "metadata": {},
   "outputs": [
    {
     "name": "stdout",
     "output_type": "stream",
     "text": [
      "30\n",
      "2\n",
      "33\n",
      "60\n"
     ]
    }
   ],
   "source": [
    "from typing import Union\n",
    "def process_age(age: Union[int,str]) -> int:\n",
    "    '''\n",
    "    Convierte la variable a tipo entero\n",
    "    '''\n",
    "    if isinstance(age, int):\n",
    "        return age\n",
    "    elif '.' in age:\n",
    "        return round(float(age))\n",
    "    else:\n",
    "        return int(age)\n",
    "\n",
    "print (process_age('30'))\n",
    "print (process_age(2))\n",
    "print (process_age('33.3'))\n",
    "print (process_age('59.6'))"
   ]
  },
  {
   "cell_type": "markdown",
   "id": "8bd83ef2",
   "metadata": {},
   "source": [
    "#### Ejercicio 5: Class annotations – Crear clase Employee con anotaciones\n",
    "\n",
    "Crea una clase llamada `Employee`.  \n",
    "El constructor (`__init__`) debe recibir los parámetros:\n",
    "- name: str\n",
    "- age: int\n",
    "- salary: float\n",
    "\n",
    "Agrega un método `introduce(self) -> str` que devuelva:  \n",
    "\"Hi, my name is {name}. I am {age} years old and my salary is {salary}.\"\n",
    "\n",
    "Crea al menos dos instancias y prueba el método."
   ]
  },
  {
   "cell_type": "code",
   "execution_count": 55,
   "id": "3a94f006",
   "metadata": {},
   "outputs": [
    {
     "name": "stdout",
     "output_type": "stream",
     "text": [
      "Hi!, my name is juan. I am 19 year old and my salary is 2350.21\n"
     ]
    }
   ],
   "source": [
    "class Employee:\n",
    "    name: str\n",
    "    age: int\n",
    "    salary: float\n",
    "    def __init__(self, name:str, age:int, salary:float):\n",
    "        self.name = name\n",
    "        self.age = age\n",
    "        self.salary = salary\n",
    "    \n",
    "    def introduce(self) -> str:\n",
    "        return f'Hi!, my name is {self.name}. I am {self.age} years old and my salary is {self.salary}'\n",
    "    \n",
    "person = Employee('juan', 19, 2350.21)\n",
    "print(person.introduce())"
   ]
  },
  {
   "cell_type": "markdown",
   "id": "7dd61f35",
   "metadata": {},
   "source": [
    "#### ¿Cómo verificar tipos de datos usando librerías?\n",
    "Además de las anotaciones, es posible utilizar herramientas como MyPy para analizar estáticamente el tipo de datos en un archivo Python, buscando posibles inconsistencias o errores. MyPy no es parte de la biblioteca estándar de Python, por lo que necesitas instalarlo:"
   ]
  },
  {
   "cell_type": "code",
   "execution_count": 56,
   "id": "afd03de5",
   "metadata": {},
   "outputs": [
    {
     "name": "stdout",
     "output_type": "stream",
     "text": [
      "Collecting mypy\n",
      "  Downloading mypy-1.17.1-cp312-cp312-win_amd64.whl.metadata (2.2 kB)\n",
      "Collecting typing_extensions>=4.6.0 (from mypy)\n",
      "  Downloading typing_extensions-4.14.1-py3-none-any.whl.metadata (3.0 kB)\n",
      "Collecting mypy_extensions>=1.0.0 (from mypy)\n",
      "  Downloading mypy_extensions-1.1.0-py3-none-any.whl.metadata (1.1 kB)\n",
      "Collecting pathspec>=0.9.0 (from mypy)\n",
      "  Downloading pathspec-0.12.1-py3-none-any.whl.metadata (21 kB)\n",
      "Downloading mypy-1.17.1-cp312-cp312-win_amd64.whl (9.6 MB)\n",
      "   ---------------------------------------- 0.0/9.6 MB ? eta -:--:--\n",
      "   ---------------------------------------- 0.0/9.6 MB 1.9 MB/s eta 0:00:05\n",
      "   ---------------------------------------- 0.1/9.6 MB 1.5 MB/s eta 0:00:07\n",
      "    --------------------------------------- 0.2/9.6 MB 1.6 MB/s eta 0:00:06\n",
      "    --------------------------------------- 0.2/9.6 MB 1.6 MB/s eta 0:00:06\n",
      "   -- ------------------------------------- 0.5/9.6 MB 2.4 MB/s eta 0:00:04\n",
      "   --- ------------------------------------ 0.8/9.6 MB 2.7 MB/s eta 0:00:04\n",
      "   ---- ----------------------------------- 1.0/9.6 MB 3.6 MB/s eta 0:00:03\n",
      "   ------ --------------------------------- 1.7/9.6 MB 4.8 MB/s eta 0:00:02\n",
      "   ------------- -------------------------- 3.3/9.6 MB 7.8 MB/s eta 0:00:01\n",
      "   --------------------- ------------------ 5.1/9.6 MB 10.9 MB/s eta 0:00:01\n",
      "   --------------------------- ------------ 6.5/9.6 MB 12.6 MB/s eta 0:00:01\n",
      "   --------------------------- ------------ 6.6/9.6 MB 12.4 MB/s eta 0:00:01\n",
      "   ---------------------------- ----------- 6.8/9.6 MB 11.2 MB/s eta 0:00:01\n",
      "   ------------------------------- -------- 7.7/9.6 MB 11.6 MB/s eta 0:00:01\n",
      "   ---------------------------------------  9.4/9.6 MB 13.3 MB/s eta 0:00:01\n",
      "   ---------------------------------------- 9.6/9.6 MB 13.0 MB/s eta 0:00:00\n",
      "Downloading mypy_extensions-1.1.0-py3-none-any.whl (5.0 kB)\n",
      "Downloading pathspec-0.12.1-py3-none-any.whl (31 kB)\n",
      "Downloading typing_extensions-4.14.1-py3-none-any.whl (43 kB)\n",
      "   ---------------------------------------- 0.0/43.9 kB ? eta -:--:--\n",
      "   ---------------------------------------- 43.9/43.9 kB ? eta 0:00:00\n",
      "Installing collected packages: typing_extensions, pathspec, mypy_extensions, mypy\n",
      "Successfully installed mypy-1.17.1 mypy_extensions-1.1.0 pathspec-0.12.1 typing_extensions-4.14.1\n",
      "Note: you may need to restart the kernel to use updated packages.\n"
     ]
    },
    {
     "name": "stderr",
     "output_type": "stream",
     "text": [
      "  WARNING: The scripts dmypy.exe, mypy.exe, mypyc.exe, stubgen.exe and stubtest.exe are installed in 'c:\\Users\\agust\\AppData\\Local\\Programs\\Python\\Python312\\Scripts' which is not on PATH.\n",
      "  Consider adding this directory to PATH or, if you prefer to suppress this warning, use --no-warn-script-location.\n",
      "\n",
      "[notice] A new release of pip is available: 24.0 -> 25.2\n",
      "[notice] To update, run: python.exe -m pip install --upgrade pip\n"
     ]
    }
   ],
   "source": [
    "pip install mypy"
   ]
  },
  {
   "cell_type": "markdown",
   "id": "d141bf08",
   "metadata": {},
   "source": [
    "---\n",
    "Analizar los ejercicios:\n",
    "---\n",
    "`mypy 3. anotaciones-de-tipo.ipynb`\n",
    "\n",
    "Pero no soporta archivos .ipynb, por lo tanto voy a exportar el codigo"
   ]
  }
 ],
 "metadata": {
  "kernelspec": {
   "display_name": "Python 3",
   "language": "python",
   "name": "python3"
  },
  "language_info": {
   "codemirror_mode": {
    "name": "ipython",
    "version": 3
   },
   "file_extension": ".py",
   "mimetype": "text/x-python",
   "name": "python",
   "nbconvert_exporter": "python",
   "pygments_lexer": "ipython3",
   "version": "3.12.4"
  }
 },
 "nbformat": 4,
 "nbformat_minor": 5
}
