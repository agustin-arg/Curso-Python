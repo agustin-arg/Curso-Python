{
 "cells": [
  {
   "cell_type": "markdown",
   "id": "0e1c1b9d",
   "metadata": {},
   "source": [
    "#### Ejercicio 1: Variable annotations – Declarar tipos de variables\n",
    "\n",
    "Declara tres variables con anotaciones de tipo:\n",
    "- employee_id: int\n",
    "- employee_name: str\n",
    "- employee_salary: float\n",
    "\n",
    "Asigna valores apropiados a cada variable.  \n",
    "Imprime los valores para verificar que están bien asignados."
   ]
  },
  {
   "cell_type": "code",
   "execution_count": null,
   "id": "839fd437",
   "metadata": {},
   "outputs": [
    {
     "name": "stdout",
     "output_type": "stream",
     "text": [
      "El ID del empleado es: 46220629.5\n",
      "El nombre del empleado es: Javier\n",
      "El salario del empleado es: 2800.45\n"
     ]
    }
   ],
   "source": [
    "employee_id: int = 46220629\n",
    "employee_name: str = 'Javier'\n",
    "employee_salary: float = 2800.45\n",
    "\n",
    "print(f'El ID del empleado es: {employee_id}')\n",
    "print(f'El nombre del empleado es: {employee_name}')\n",
    "print(f'El salario del empleado es: {employee_salary}')"
   ]
  },
  {
   "cell_type": "markdown",
   "id": "52b55db9",
   "metadata": {},
   "source": [
    "#### Ejercicio 2: Function annotations – Sumar salarios\n",
    "\n",
    "Crea una función llamada `sum_salaries(salary1: float, salary2: float) -> float`  \n",
    "La función debe devolver la suma de ambos salarios.  \n",
    "Prueba la función con dos valores y muestra el resultado."
   ]
  },
  {
   "cell_type": "code",
   "execution_count": null,
   "id": "9d472757",
   "metadata": {},
   "outputs": [
    {
     "name": "stdout",
     "output_type": "stream",
     "text": [
      "3801.3599999999997\n",
      "3801.36\n"
     ]
    }
   ],
   "source": [
    "def sum_salaries(salary1: float, salary2: float) -> float:\n",
    "    '''\n",
    "    Devuelve la suma de ambos salarios\n",
    "    '''\n",
    "    return salary1 + salary2\n",
    "\n",
    "employee_salary1: float = 2800.45\n",
    "employee_salary2: float = 1000.91\n",
    "\n",
    "print(sum_salaries(employee_salary1,employee_salary2))\n",
    "#Es una buena practica redondear los numeros\n",
    "print(round(sum_salaries(employee_salary1,employee_salary2),2))"
   ]
  },
  {
   "cell_type": "markdown",
   "id": "9b6f8727",
   "metadata": {},
   "source": [
    "#### Ejercicio 3: Optional – Buscar un empleado por nombre\n",
    "\n",
    "Usando `from typing import Optional`, crea una función  \n",
    "`find_employee(employees: list[str], name: str) -> Optional[str]`  \n",
    "La función debe devolver el nombre del empleado si existe en la lista, o None si no existe.  \n",
    "Prueba la función con una lista de nombres y muestra el resultado."
   ]
  },
  {
   "cell_type": "code",
   "execution_count": null,
   "id": "1b6ab75b",
   "metadata": {},
   "outputs": [
    {
     "name": "stdout",
     "output_type": "stream",
     "text": [
      "Bob\n",
      "None\n"
     ]
    }
   ],
   "source": [
    "import random\n",
    "\n",
    "from typing import Optional\n",
    "\n",
    "def find_employee(employees: list[str], name: str) -> Optional[str]:\n",
    "    ''''\n",
    "    Devuelve en nombre del empleado si existe en la lista\n",
    "    de lo contraerio, None\n",
    "    '''\n",
    "    if name in employees:\n",
    "        return name\n",
    "    else:\n",
    "        return\n",
    "\n",
    "employees = [\"Alice\", \"Bob\", \"Charlie\", \"Diana\", \"Eve\"]\n",
    "name = employees[random.randint(0,len(employees)-1)]\n",
    "print(find_employee(employees,name))\n",
    "print(find_employee(employees,'Carly'))\n"
   ]
  },
  {
   "cell_type": "markdown",
   "id": "6e9f7c7a",
   "metadata": {},
   "source": [
    "#### Ejercicio 4: Union – Procesar edad de empleado\n",
    "\n",
    "Usando `from typing import Union`, crea una función  \n",
    "`process_age(age: Union[int, str]) -> int`  \n",
    "La función debe convertir el valor recibido a entero y devolverlo.  \n",
    "Prueba la función con diferentes tipos de entrada (por ejemplo, \"30\" y 25)."
   ]
  },
  {
   "cell_type": "code",
   "execution_count": null,
   "id": "359610e6",
   "metadata": {},
   "outputs": [],
   "source": []
  },
  {
   "cell_type": "markdown",
   "id": "8bd83ef2",
   "metadata": {},
   "source": [
    "#### Ejercicio 5: Class annotations – Crear clase Employee con anotaciones\n",
    "\n",
    "Crea una clase llamada `Employee`.  \n",
    "El constructor (`__init__`) debe recibir los parámetros:\n",
    "- name: str\n",
    "- age: int\n",
    "- salary: float\n",
    "\n",
    "Agrega un método `introduce(self) -> str` que devuelva:  \n",
    "\"Hi, my name is {name}. I am {age} years old and my salary is {salary}.\"\n",
    "\n",
    "Crea al menos dos instancias y prueba el método."
   ]
  },
  {
   "cell_type": "code",
   "execution_count": null,
   "id": "3a94f006",
   "metadata": {},
   "outputs": [],
   "source": []
  },
  {
   "cell_type": "markdown",
   "id": "d1c093da",
   "metadata": {},
   "source": [
    "#### Ejercicio 6: Filtrar empleados por salario usando anotaciones\n",
    "\n",
    "Crea una función  \n",
    "`filter_high_salary(employees: list[dict[str, Union[str, int, float]]], minimum_salary: float) -> list[dict]`\n",
    "\n",
    "La función recibirá una lista de diccionarios.  \n",
    "Cada diccionario tendrá las claves: `\"name\"`, `\"age\"`, `\"salary\"`.\n",
    "\n",
    "Debe devolver una lista de empleados (diccionarios) que ganen más de `minimum_salary`."
   ]
  },
  {
   "cell_type": "code",
   "execution_count": null,
   "id": "72ca4ea7",
   "metadata": {},
   "outputs": [],
   "source": []
  },
  {
   "cell_type": "code",
   "execution_count": null,
   "id": "afd03de5",
   "metadata": {},
   "outputs": [],
   "source": [
    "pip install mypy"
   ]
  }
 ],
 "metadata": {
  "kernelspec": {
   "display_name": "Python 3",
   "language": "python",
   "name": "python3"
  },
  "language_info": {
   "codemirror_mode": {
    "name": "ipython",
    "version": 3
   },
   "file_extension": ".py",
   "mimetype": "text/x-python",
   "name": "python",
   "nbconvert_exporter": "python",
   "pygments_lexer": "ipython3",
   "version": "3.12.4"
  }
 },
 "nbformat": 4,
 "nbformat_minor": 5
}
