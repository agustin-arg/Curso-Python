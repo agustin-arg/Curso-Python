{
 "cells": [
  {
   "cell_type": "markdown",
   "id": "70ddb926",
   "metadata": {},
   "source": [
    "#### Ejercicio 1: filter() – Filtrar empleados por salario\n",
    "\n",
    "Crea una función llamada `high_salary_employees()` que no recibirá nada.  \n",
    "Cada diccionario tendrá las claves: `\"name\"`, `\"age\"`, `\"salary\"`.\n",
    "\n",
    "La función debe devolver una lista de empleados (diccionarios) que ganen más que el valor dado en `minimum_salary`.\n",
    "Ejemplo de lista de entrada:\n",
    "employees = [\n",
    "    {\"name\": \"Juan\", \"age\": 28, \"salary\": 3500},\n",
    "    {\"name\": \"María\", \"age\": 32, \"salary\": 4200},\n",
    "    {\"name\": \"Carlos\", \"age\": 25, \"salary\": 3100},\n",
    "    {\"name\": \"Ana\", \"age\": 40, \"salary\": 5000},\n",
    "    {\"name\": \"Luis\", \"age\": 30, \"salary\": 3900},\n",
    "]\n"
   ]
  },
  {
   "cell_type": "code",
   "execution_count": 2,
   "id": "75f1f784",
   "metadata": {},
   "outputs": [
    {
     "name": "stdout",
     "output_type": "stream",
     "text": [
      "['Marco', 'Magali', 'Alberto']\n"
     ]
    }
   ],
   "source": [
    "employees = [\n",
    "    {\"name\": \"Emiliano\", \"age\": 33, \"salary\": 2800},\n",
    "    {\"name\": \"Marco\", \"age\": 44, \"salary\": 4200},\n",
    "    {\"name\": \"Magali\", \"age\": 55, \"salary\": 6000},\n",
    "    {\"name\": \"Ana\", \"age\": 66, \"salary\": 3000},\n",
    "    {\"name\": \"Alberto\", \"age\": 77, \"salary\": 4900},\n",
    "]\n",
    "\n",
    "minimum_salary = 4000\n",
    "\n",
    "def high_salary_employees():\n",
    "    '''\n",
    "    Devuelve una lista de empleado según cuanto ganenen\n",
    "    Accede a variables globales\n",
    "    '''\n",
    "    return [employee['name'] for employee in employees if employee['salary'] > minimum_salary]\n",
    "\n",
    "print(high_salary_employees())\n",
    "    "
   ]
  },
  {
   "cell_type": "markdown",
   "id": "7350fee7",
   "metadata": {},
   "source": [
    "#### Ejercicio 2: print() – Variables locales y alcance\n",
    "\n",
    "Crea una función llamada `show_local()` que defina una variable local llamada `message` con el valor \"Hello from local\". Imprime el valor de `message` dentro de la función. Luego, intenta imprimir `message` fuera de la función y observa qué ocurre."
   ]
  },
  {
   "cell_type": "markdown",
   "id": "02198081",
   "metadata": {},
   "source": [
    "#### Ejercicio 3: global – Modificar variables globales desde funciones\n",
    "\n",
    "Define una variable global llamada `counter` igual a 0. Crea una función `increase_counter()` que utilice la palabra clave `global` para incrementar el valor de `counter` en 1 cada vez que se llama. Llama varias veces a `increase_counter()` y muestra el valor de `counter` después de cada llamada."
   ]
  },
  {
   "cell_type": "markdown",
   "id": "e4f46895",
   "metadata": {},
   "source": [
    "#### Ejercicio 4: funciones anidadas – Alcance de variables en funciones internas\n",
    "\n",
    "Crea una función `outer()` que defina una variable `status` igual a \"outer\". Dentro de `outer()`, crea una función `inner()` que defina una variable llamada `status` con el valor \"inner\" y la imprima. Llama a `inner()` dentro de `outer()`, y luego imprime `status` dentro de `outer()`. Finalmente, llama a `outer()` y observa los resultados."
   ]
  },
  {
   "cell_type": "markdown",
   "id": "c0d7415f",
   "metadata": {},
   "source": [
    "#### Ejercicio 5: nonlocal – Modificar variables en funciones encapsulantes\n",
    "\n",
    "Crea una función `main_function()` que defina una variable `level` igual a \"first\". Dentro de `main_function()`, crea una función `sub_function()` que use `nonlocal` para cambiar el valor de `level` a \"second\" y la imprima. Llama a `sub_function()` dentro de `main_function()`, imprime el valor de `level` después y llama a `main_function()` desde el programa principal."
   ]
  },
  {
   "cell_type": "markdown",
   "id": "aa8f3ac2",
   "metadata": {},
   "source": [
    "#### Ejercicio 6: Ejercicio integrado – Manejo de alcance y modificación de variables\n",
    "\n",
    "Plantea una función que permita llevar el control de un puntaje (`score`) para un juego sencillo. El puntaje debe empezar en cero y poder ser incrementado por diferentes funciones (por ejemplo, funciones que representen acciones del juego). Piensa cómo puedes organizar el alcance de la variable para que todas las funciones puedan modificar y consultar el puntaje correctamente.\n",
    "\n",
    "No se indica qué métodos o palabras clave usar. Utiliza lo aprendido sobre variables locales, globales y nonlocal para resolver el problema."
   ]
  }
 ],
 "metadata": {
  "kernelspec": {
   "display_name": "Python 3",
   "language": "python",
   "name": "python3"
  },
  "language_info": {
   "codemirror_mode": {
    "name": "ipython",
    "version": 3
   },
   "file_extension": ".py",
   "mimetype": "text/x-python",
   "name": "python",
   "nbconvert_exporter": "python",
   "pygments_lexer": "ipython3",
   "version": "3.12.4"
  }
 },
 "nbformat": 4,
 "nbformat_minor": 5
}
