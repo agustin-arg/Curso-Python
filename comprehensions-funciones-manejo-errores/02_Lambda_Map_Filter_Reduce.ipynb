{
 "cells": [
  {
   "cell_type": "markdown",
   "id": "6efe5f44",
   "metadata": {},
   "source": [
    "#### Ejercicio 1: lambda + map – Aplicar un aumento porcentual a una lista de salarios\n",
    "\n",
    "Crea una función llamada `apply_raise_to_salaries()` que reciba una lista de salarios (`salaries`) y un porcentaje de aumento (`raise_percent`) expresado como número (por ejemplo, 10 para 10%).  \n",
    "La función debe devolver una nueva lista con los salarios actualizados sin modificar la lista original. Usa `lambda` y `map` para transformar los valores.\n",
    "\n",
    "Ejemplo de entrada:\n",
    "salaries = [2500, 3100, 4200, 1500, 3900]\n",
    "raise_percent = 10"
   ]
  },
  {
   "cell_type": "code",
   "execution_count": 3,
   "id": "58250f59",
   "metadata": {},
   "outputs": [
    {
     "name": "stdout",
     "output_type": "stream",
     "text": [
      "[2750, 3410, 4620, 1650, 4290]\n",
      "[2500, 3100, 4200, 1500, 3900]\n"
     ]
    }
   ],
   "source": [
    "# Ejercicio 1:\n",
    "def apply_raise_to_salaries(salaries_list: list, raise_percent: int) -> list:\n",
    "    return list(map(lambda salary: int (salary + (salary * (raise_percent/100)))\n",
    "    , salaries_list))\n",
    "    \n",
    "salaries = [2500, 3100, 4200, 1500, 3900]\n",
    "raise_percent = 10\n",
    "print(apply_raise_to_salaries(salaries, raise_percent))\n",
    "print(salaries)"
   ]
  },
  {
   "cell_type": "markdown",
   "id": "e2c8ee2a",
   "metadata": {},
   "source": [
    "#### Ejercicio 2: map + lambda – Normalizar nombres en una lista de empleados\n",
    "\n",
    "Crea una función llamada `normalize_employee_names()` que reciba una lista de diccionarios `employees`.  \n",
    "Cada diccionario tiene las claves: `\"name\"`, `\"age\"`, `\"salary\"`.  \n",
    "La función debe devolver una nueva lista donde cada `name` esté en formato \"Title Case\" (primera letra en mayúscula) y se añada una clave nueva `\"name_length\"` con la longitud del nombre. Usa `map` y `lambda`. No modifiques la lista original.\n",
    "\n",
    "Ejemplo de entrada:\n",
    "employees = [\n",
    "    {\"name\": \"juan pérez\", \"age\": 28, \"salary\": 3500},\n",
    "    {\"name\": \"MARÍA gomez\", \"age\": 32, \"salary\": 4200},\n",
    "    {\"name\": \"carlos\", \"age\": 25, \"salary\": 3100},\n",
    "]"
   ]
  },
  {
   "cell_type": "code",
   "execution_count": 15,
   "id": "f467c1dd",
   "metadata": {},
   "outputs": [
    {
     "name": "stdout",
     "output_type": "stream",
     "text": [
      "[{'name': 'Juan Pérez', 'age': 28, 'salary': 3500, 'name_length': 10}, {'name': 'María Gomez', 'age': 32, 'salary': 4200, 'name_length': 11}, {'name': 'Carlos', 'age': 25, 'salary': 3100, 'name_length': 6}]\n",
      "[{'name': 'juan pérez', 'age': 28, 'salary': 3500}, {'name': 'MARÍA gomez', 'age': 32, 'salary': 4200}, {'name': 'carlos', 'age': 25, 'salary': 3100}]\n"
     ]
    }
   ],
   "source": [
    "# Ejercicio 2:\n",
    "import copy\n",
    "def normalize_employee_names(employees_list: list) ->list:\n",
    "    employees_list = copy.deepcopy(employees_list)\n",
    "    new_data = list(map(lambda employee: {'name': employee['name'].title(), 'name_length': len(employee['name'])}, \n",
    "                        employees_list))\n",
    "    for i in range(len(employees_list)):\n",
    "        employees_list[i].update(new_data[i])\n",
    "    return employees_list\n",
    "\n",
    "employees = [\n",
    "    {\"name\": \"juan pérez\", \"age\": 28, \"salary\": 3500},\n",
    "    {\"name\": \"MARÍA gomez\", \"age\": 32, \"salary\": 4200},\n",
    "    {\"name\": \"carlos\", \"age\": 25, \"salary\": 3100},\n",
    "]\n",
    "print(normalize_employee_names(employees))\n",
    "print(employees)\n"
   ]
  },
  {
   "cell_type": "code",
   "execution_count": null,
   "id": "92aa09b1",
   "metadata": {},
   "outputs": [],
   "source": [
    "#Opción más limpia:\n",
    "def normalize_employee_names(employees_list: list) -> list:\n",
    "    return list(\n",
    "        map(\n",
    "            lambda employee: {\n",
    "                **employee,\n",
    "                'name': employee['name'].title(),\n",
    "                'name_length': len(employee['name'])\n",
    "            },\n",
    "            employees_list\n",
    "        )\n",
    "    )\n",
    "\n",
    "employees = [\n",
    "    {\"name\": \"juan pérez\", \"age\": 28, \"salary\": 3500},\n",
    "    {\"name\": \"MARÍA gomez\", \"age\": 32, \"salary\": 4200},\n",
    "    {\"name\": \"carlos\", \"age\": 25, \"salary\": 3100},\n",
    "]\n",
    "print(normalize_employee_names(employees))\n",
    "print(employees)  # El original NO se modifica\n",
    "# {**employee, ...} copia todas las claves y valores del diccionario original.\n",
    "# Luego, sobreescribe \"name\" (con .title()) y agrega \"name_length\" en el nuevo diccionario.\n",
    "# map aplica esto a cada empleado y list(...) lo convierte en lista."
   ]
  },
  {
   "cell_type": "markdown",
   "id": "29e1edd7",
   "metadata": {},
   "source": [
    "#### Ejercicio 3: Transformaciones con map en diccionarios complejos — evitar modificar el array original\n",
    "\n",
    "Crea una función llamada `upgrade_employee_records()` que reciba una lista de empleados `employees`.  \n",
    "Cada empleado es un diccionario con claves: `\"name\"`, `\"salary\"`, `\"details\"` donde `\"details\"` es otro diccionario con claves como `\"address\"` y `\"years_in_company\"`.  \n",
    "La función debe devolver una nueva lista (sin modificar la original) donde:\n",
    "- Se aumente el `salary` según un porcentaje `raise_percent`.\n",
    "- Se añada dentro de `details` una clave `\"eligible_for_promotion\"` que sea True si `years_in_company >= promotion_threshold`.\n",
    "Usa `map` y la función `copy` (o `deepcopy`) del módulo `copy` para asegurarte de no modificar el array original ni los diccionarios anidados.\n",
    "\n",
    "Ejemplo de entrada:\n",
    "employees = [\n",
    "    {\"name\": \"Alice\", \"salary\": 4800, \"details\": {\"address\": \"Calle 1\", \"years_in_company\": 3}},\n",
    "    {\"name\": \"Bob\",   \"salary\": 3700, \"details\": {\"address\": \"Calle 2\", \"years_in_company\": 6}},\n",
    "]\n",
    "raise_percent = 5\n",
    "promotion_threshold = 5"
   ]
  },
  {
   "cell_type": "code",
   "execution_count": null,
   "id": "dde56d7e",
   "metadata": {},
   "outputs": [],
   "source": [
    "# Ejercicio 3:\n"
   ]
  },
  {
   "cell_type": "markdown",
   "id": "6c41e487",
   "metadata": {},
   "source": [
    "#### Ejercicio 4: filter + lambda – Filtrar empleados por salario y edad\n",
    "\n",
    "Crea una función llamada `filter_employees_by_salary_and_age()` que reciba la lista `employees`, un salario mínimo `min_salary` y una edad máxima `max_age`.  \n",
    "Cada empleado tiene las claves: `\"name\"`, `\"age\"`, `\"salary\"`.  \n",
    "La función debe devolver una lista de empleados que ganen al menos `min_salary` y cuya `age` sea menor o igual a `max_age`. Utiliza `filter` y `lambda`. No modificar la lista original.\n",
    "\n",
    "Ejemplo de entrada:\n",
    "employees = [\n",
    "    {\"name\": \"Eve\", \"age\": 29, \"salary\": 3000},\n",
    "    {\"name\": \"Frank\", \"age\": 41, \"salary\": 5200},\n",
    "    {\"name\": \"Grace\", \"age\": 35, \"salary\": 4100},\n",
    "]\n",
    "min_salary = 3500\n",
    "max_age = 40"
   ]
  },
  {
   "cell_type": "code",
   "execution_count": null,
   "id": "140f7da2",
   "metadata": {},
   "outputs": [],
   "source": [
    "# Ejercicio 4:\n"
   ]
  },
  {
   "cell_type": "markdown",
   "id": "2d4de5a4",
   "metadata": {},
   "source": [
    "#### Ejercicio 5: reduce – Agregar y calcular estadísticas de salarios\n",
    "\n",
    "Crea una función llamada `aggregate_salary_stats()` que reciba la lista `employees` (con claves `\"name\"`, `\"salary\"`).  \n",
    "Usa `functools.reduce` para calcular:\n",
    "- `total_salary` (suma de todos los salarios),\n",
    "- `max_salary` (salario máximo),\n",
    "- `min_salary` (salario mínimo),\n",
    "- `average_salary` (promedio).\n",
    "La función debe devolver un diccionario con esas cuatro claves. Trata de hacer la agregación en una sola pasada con `reduce`.\n",
    "\n",
    "Ejemplo de entrada:\n",
    "employees = [\n",
    "    {\"name\": \"Helen\", \"salary\": 2900},\n",
    "    {\"name\": \"Ian\", \"salary\": 5100},\n",
    "    {\"name\": \"Jack\", \"salary\": 3300},\n",
    "]"
   ]
  },
  {
   "cell_type": "code",
   "execution_count": null,
   "id": "7767e4c7",
   "metadata": {},
   "outputs": [],
   "source": [
    "# Ejercicio 5:\n"
   ]
  },
  {
   "cell_type": "markdown",
   "id": "3a9e8dcf",
   "metadata": {},
   "source": [
    "#### Ejercicio 6: map + filter + reduce + copy — Reporte de nómina aplicando condiciones\n",
    "\n",
    "Crea una función llamada `generate_payroll_report()` que reciba la lista `employees`, un `raise_percent` y un `eligibility_salary`.  \n",
    "Cada empleado tiene al menos: `\"name\"`, `\"salary\"`, `\"department\"`.  \n",
    "La función debe:\n",
    "- Trabajar sobre una copia profunda de la lista original para no modificarla.\n",
    "- Aplicar el `raise_percent` solo a los empleados cuyo `salary` sea menor que `eligibility_salary`.\n",
    "- Devolver un diccionario con:\n",
    "  - `\"updated_employees\"`: la lista con los salarios actualizados,\n",
    "  - `\"total_payroll\"`: la suma de todos los salarios después del ajuste,\n",
    "  - `\"departments_count\"`: un conteo (diccionario) de cuántos empleados hay por departamento después del ajuste.\n",
    "Usa `map`, `filter` y `reduce` en las partes donde tenga sentido.\n",
    "\n",
    "Ejemplo de entrada:\n",
    "employees = [\n",
    "    {\"name\": \"Liam\", \"salary\": 2400, \"department\": \"IT\"},\n",
    "    {\"name\": \"Mia\",  \"salary\": 5200, \"department\": \"HR\"},\n",
    "    {\"name\": \"Noah\", \"salary\": 3100, \"department\": \"IT\"},\n",
    "]\n",
    "raise_percent = 8\n",
    "eligibility_salary = 4000"
   ]
  },
  {
   "cell_type": "code",
   "execution_count": null,
   "id": "39cef4b6",
   "metadata": {},
   "outputs": [],
   "source": [
    "# Ejercicio 6:\n"
   ]
  },
  {
   "cell_type": "markdown",
   "id": "15d3ee3e",
   "metadata": {},
   "source": [
    "#### Ejercicio 7: Actividad integrada (no indicar métodos) — Selección y reparto de bonus\n",
    "\n",
    "Planteamiento (no se indica qué métodos usar):  \n",
    "Tienes una lista de empleados `employees`. Cada empleado es un diccionario con las claves:\n",
    "- `\"name\"` (str),\n",
    "- `\"salary\"` (numérico),\n",
    "- `\"performance\"` (lista de números del 1 al 10 que representan evaluaciones a lo largo del año),\n",
    "- `\"projects\"` (lista de diccionarios, cada uno con `\"name\"` y `\"impact_score\"` numérico).\n",
    "Plantea una función llamada `select_and_distribute_bonus()` que reciba `employees` y un número `budget` (presupuesto total de bonus disponible). La función debe:\n",
    "- Seleccionar a los empleados más merecedores de bonus basándose en una combinación razonable de su salario, sus promedios de `performance` y el impacto total de sus `projects`.\n",
    "- Decidir cuánto del `budget` asignar a cada seleccionado, priorizando empleados con mejor desempeño relativo y tratando de equilibrar entre empleados de distintos departamentos si esa información existe.\n",
    "- Devolver un diccionario con dos claves: `\"selected\"` (lista de empleados seleccionados con la cantidad de bonus asignada en una nueva clave `\"bonus\"`) y `\"remaining_budget\"` (lo que quede del presupuesto si no se gastó todo).\n",
    "No te doy la técnica a usar ni las funciones concretas: decide tú la estrategia y qué herramientas de Python aplicar (puedes usar lambdas, map, filter, reduce, sorted, comprehensions, etc.). La idea es aplicar lo aprendido para diseñar una solución completa.\n",
    "Ejemplo de entrada:\n",
    "employees = [\n",
    "    {\n",
    "        \"name\": \"Olivia\",\n",
    "        \"salary\": 4800,\n",
    "        \"performance\": [8, 9, 9, 8],\n",
    "        \"projects\": [{\"name\": \"P1\", \"impact_score\": 7}, {\"name\": \"P2\", \"impact_score\": 9}]\n",
    "    },\n",
    "    {\n",
    "        \"name\": \"Peter\",\n",
    "        \"salary\": 3200,\n",
    "        \"performance\": [7, 6, 8, 7],\n",
    "        \"projects\": [{\"name\": \"P3\", \"impact_score\": 6}]\n",
    "    },\n",
    "    {\n",
    "        \"name\": \"Quinn\",\n",
    "        \"salary\": 6100,\n",
    "        \"performance\": [9, 9, 10, 9],\n",
    "        \"projects\": [{\"name\": \"P4\", \"impact_score\": 10}, {\"name\": \"P5\", \"impact_score\": 8}]\n",
    "    },\n",
    "]\n",
    "budget = 5000"
   ]
  },
  {
   "cell_type": "code",
   "execution_count": null,
   "id": "78104acc",
   "metadata": {},
   "outputs": [],
   "source": [
    "# Ejercicio 7:\n"
   ]
  }
 ],
 "metadata": {
  "kernelspec": {
   "display_name": "Python 3",
   "language": "python",
   "name": "python3"
  },
  "language_info": {
   "codemirror_mode": {
    "name": "ipython",
    "version": 3
   },
   "file_extension": ".py",
   "mimetype": "text/x-python",
   "name": "python",
   "nbconvert_exporter": "python",
   "pygments_lexer": "ipython3",
   "version": "3.12.4"
  }
 },
 "nbformat": 4,
 "nbformat_minor": 5
}
