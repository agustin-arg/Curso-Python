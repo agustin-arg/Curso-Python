{
 "cells": [
  {
   "cell_type": "markdown",
   "id": "14ce1220",
   "metadata": {},
   "source": [
    "#### Ejercicio 1: lambda – Sumar dos números\n",
    "\n",
    "Crea una función llamada `sum_two_numbers()` que no recibe nada.  \n",
    "Dentro de la función, define una función lambda llamada `add` que tome dos parámetros y devuelva su suma.  \n",
    "Utiliza la lambda con dos números a elección y retorna el resultado.\n",
    "\n",
    "Ejemplo de entrada:  \n",
    "No hay entrada del usuario; los números pueden ser 5 y 7."
   ]
  },
  {
   "cell_type": "code",
   "execution_count": null,
   "id": "c832f73b",
   "metadata": {},
   "outputs": [],
   "source": [
    "# Ejercicio 1:\n"
   ]
  },
  {
   "cell_type": "markdown",
   "id": "d206feef",
   "metadata": {},
   "source": [
    "#### Ejercicio 2: map – Multiplicar todos los elementos de una lista\n",
    "\n",
    "Crea una función llamada `multiply_list()` que no recibe nada.  \n",
    "Define una lista llamada `numbers` con algunos enteros.  \n",
    "Usa la función `map` junto con una función lambda para multiplicar cada elemento por 3.  \n",
    "Retorna la lista transformada.\n",
    "\n",
    "Ejemplo de entrada:  \n",
    "numbers = [2, 4, 6, 8]"
   ]
  },
  {
   "cell_type": "code",
   "execution_count": null,
   "id": "1548c3e1",
   "metadata": {},
   "outputs": [],
   "source": [
    "# Ejercicio 2:\n"
   ]
  },
  {
   "cell_type": "markdown",
   "id": "899be14b",
   "metadata": {},
   "source": [
    "#### Ejercicio 3: map + diccionarios + copy – Aumentar el salario de empleados\n",
    "\n",
    "Crea una función llamada `increase_salaries()` que no recibe nada.  \n",
    "Define una lista llamada `employees` con varios diccionarios, donde cada uno tiene las claves `\"name\"` y `\"salary\"`.  \n",
    "Usa `map` y una función lambda para devolver una nueva lista de empleados donde el salario esté incrementado en 1000 unidades, sin modificar la lista original.  \n",
    "Para evitar modificar el array original, utiliza la función `copy` de la librería `copy` dentro de la lambda.\n",
    "\n",
    "Ejemplo de entrada:  \n",
    "employees = [\n",
    "    {\"name\": \"Alice\", \"salary\": 2500},\n",
    "    {\"name\": \"Bob\", \"salary\": 3200},\n",
    "    {\"name\": \"Charlie\", \"salary\": 2900}\n",
    " ]"
   ]
  },
  {
   "cell_type": "code",
   "execution_count": null,
   "id": "955b25e1",
   "metadata": {},
   "outputs": [],
   "source": [
    "# Ejercicio 3:\n"
   ]
  },
  {
   "cell_type": "markdown",
   "id": "2ecd6fe9",
   "metadata": {},
   "source": [
    "#### Ejercicio 4: filter – Filtrar números pares\n",
    "\n",
    "Crea una función llamada `get_even_numbers()` que no recibe nada.  \n",
    "Define una lista llamada `numbers` con enteros.  \n",
    "Utiliza `filter` y una función lambda para retornar solo los números pares de la lista.\n",
    "\n",
    "Ejemplo de entrada:  \n",
    "numbers = [1, 2, 3, 4, 5, 6, 7, 8]"
   ]
  },
  {
   "cell_type": "code",
   "execution_count": null,
   "id": "3d7a4461",
   "metadata": {},
   "outputs": [],
   "source": [
    "# Ejercicio 4:\n"
   ]
  },
  {
   "cell_type": "markdown",
   "id": "88280273",
   "metadata": {},
   "source": [
    "#### Ejercicio 5: reduce – Sumar todos los valores de una lista\n",
    "\n",
    "Crea una función llamada `sum_list()` que no recibe nada.  \n",
    "Define una lista llamada `numbers` con enteros.  \n",
    "Utiliza `reduce` y una función lambda para obtener la suma total de los elementos de la lista.  \n",
    "Recuerda importar `reduce` desde `functools`.\n",
    "\n",
    "Ejemplo de entrada:  \n",
    "numbers = [10, 20, 30, 40]"
   ]
  },
  {
   "cell_type": "code",
   "execution_count": null,
   "id": "6d3ba4b6",
   "metadata": {},
   "outputs": [],
   "source": [
    "# Ejercicio 5:\n"
   ]
  },
  {
   "cell_type": "markdown",
   "id": "8d5ea63f",
   "metadata": {},
   "source": [
    "#### Ejercicio 6: filter + map – Obtener nombres de empleados con salario alto\n",
    "\n",
    "Crea una función llamada `high_salary_names()` que no recibe nada.  \n",
    "Define una lista llamada `employees`, donde cada empleado es un diccionario con `\"name\"` y `\"salary\"`.  \n",
    "Primero filtra los empleados con salario mayor a 3000 usando `filter` y una lambda.  \n",
    "Luego, usa `map` para obtener solo los nombres de estos empleados.  \n",
    "Retorna la lista de nombres.\n",
    "\n",
    "Ejemplo de entrada:  \n",
    "employees = [\n",
    "    {\"name\": \"Alice\", \"salary\": 2500},\n",
    "    {\"name\": \"Bob\", \"salary\": 3200},\n",
    "    {\"name\": \"Charlie\", \"salary\": 2900},\n",
    "    {\"name\": \"Diana\", \"salary\": 4000}\n",
    " ]"
   ]
  },
  {
   "cell_type": "code",
   "execution_count": null,
   "id": "eb0d207d",
   "metadata": {},
   "outputs": [],
   "source": [
    "# Ejercicio 6:\n"
   ]
  },
  {
   "cell_type": "markdown",
   "id": "7b3eb4ac",
   "metadata": {},
   "source": [
    "#### Ejercicio 7 (integrador): Analizar ventas de productos\n",
    "\n",
    "Crea una función llamada `get_products_summary()` que no recibe nada.  \n",
    "Define una lista llamada `products` con diccionarios, donde cada uno tiene las claves `\"name\"`, `\"category\"`, `\"price\"` y `\"units_sold\"`.  \n",
    "El objetivo es que devuelvas de alguna manera (puede ser una lista, un valor, un string, etc.) un resumen de los productos más vendidos (mayor `units_sold`) y el promedio de precios de la categoría \"Electronics\".  \n",
    "No se indica qué funciones debes usar: elige tú entre lambda, map, filter, reduce, copy según lo aprendido.  \n",
    "¡Sé creativo!\n",
    "\n",
    "Ejemplo de entrada:  \n",
    "products = [\n",
    "    {\"name\": \"Laptop\", \"category\": \"Electronics\", \"price\": 1200, \"units_sold\": 50},\n",
    "    {\"name\": \"Headphones\", \"category\": \"Electronics\", \"price\": 200, \"units_sold\": 150},\n",
    "    {\"name\": \"Shirt\", \"category\": \"Clothing\", \"price\": 40, \"units_sold\": 80},\n",
    "    {\"name\": \"Smartphone\", \"category\": \"Electronics\", \"price\": 900, \"units_sold\": 120},\n",
    "    {\"name\": \"Pants\", \"category\": \"Clothing\", \"price\": 60, \"units_sold\": 70}\n",
    " ]"
   ]
  },
  {
   "cell_type": "code",
   "execution_count": null,
   "id": "6d55493e",
   "metadata": {},
   "outputs": [],
   "source": [
    "# Ejercicio 7:\n"
   ]
  }
 ],
 "metadata": {
  "language_info": {
   "name": "python"
  }
 },
 "nbformat": 4,
 "nbformat_minor": 5
}
