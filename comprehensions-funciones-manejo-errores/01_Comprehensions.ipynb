{
 "cells": [
  {
   "cell_type": "markdown",
   "id": "777a43cd",
   "metadata": {},
   "source": [
    "#### Ejercicio 1: zip() – Unir listas en tuplas\n",
    "\n",
    "Crea una función llamada `combine_lists()` que no recibe ningún parámetro.  \n",
    "Dentro de la función, crea dos listas: `countries` con al menos tres nombres de países y `capitals` con las capitales correspondientes.  \n",
    "Usa la función `zip` para unir ambas listas y devuelve una lista de tuplas donde cada tupla tenga el país y su capital.  \n",
    "Ejemplo de retorno: `[('Argentina', 'Buenos Aires'), ('Brazil', 'Brasilia'), ('Chile', 'Santiago')]`"
   ]
  },
  {
   "cell_type": "code",
   "execution_count": null,
   "id": "90fdfbdd",
   "metadata": {},
   "outputs": [
    {
     "name": "stdout",
     "output_type": "stream",
     "text": [
      "[('Argentina', 'Buenos Aires'), ('Brazil', 'Brasilia'), ('Chile', 'Santiago')]\n"
     ]
    }
   ],
   "source": [
    "# Ejercicio 1:\n",
    "def combine_list() -> list:\n",
    "    contries: list = ['Argentina', 'Brazil', 'Chile']\n",
    "    capitals: list = ['Buenos Aires', 'Brasilia', 'Santiago']\n",
    "    return list(zip(contries, capitals))\n",
    "\n",
    "print(combine_list())"
   ]
  },
  {
   "cell_type": "markdown",
   "id": "233998d9",
   "metadata": {},
   "source": [
    "#### Ejercicio 2: Dictionary Comprehension – Crear diccionario a partir de dos listas\n",
    "\n",
    "Crea una función llamada `cities_population_dict()` que no recibe argumentos.  \n",
    "Dentro de la función, define dos listas: `cities` con al menos cuatro nombres de ciudades y `populations` con sus respectivas poblaciones (números enteros).  \n",
    "Usa un Dictionary Comprehension junto con `zip` para crear un diccionario que relacione cada ciudad con su población.  \n",
    "Ejemplo de retorno: `{'London': 9000000, 'Paris': 2150000, ...}`"
   ]
  },
  {
   "cell_type": "code",
   "execution_count": 4,
   "id": "9da3c858",
   "metadata": {},
   "outputs": [
    {
     "name": "stdout",
     "output_type": "stream",
     "text": [
      "{'London': 1506313, 'Paris': 3072472, 'Berlin': 2081641, 'Rome': 4576708, 'Tokyo': 3718210, 'New York': 3053006, 'Buenos Aires': 3304220, 'Sydney': 4278012}\n"
     ]
    }
   ],
   "source": [
    "# Ejercicio 2:\n",
    "import random\n",
    "def cities_population_dict() -> dict:\n",
    "    cities: list = ['London','Paris', 'Berlin',\n",
    "                    'Rome', 'Tokyo', 'New York',\n",
    "                    'Buenos Aires', 'Sydney']\n",
    "    populations: list = [random.randint(1000000, 9000000), random.randint(1000000, 9000000),\n",
    "                          random.randint(1000000, 9000000), random.randint(1000000, 9000000),\n",
    "                          random.randint(1000000, 9000000), random.randint(1000000, 9000000), \n",
    "                          random.randint(1000000, 9000000), random.randint(1000000, 9000000)]\n",
    "    return {citie: population for citie, population in zip(cities, populations)}\n",
    "print(cities_population_dict())"
   ]
  },
  {
   "cell_type": "markdown",
   "id": "a87c2c91",
   "metadata": {},
   "source": [
    "#### Ejercicio 3: Dictionary Comprehension con condición – Filtrar por población\n",
    "\n",
    "Crea una función llamada `large_cities_dict()` que no recibe parámetros.  \n",
    "Define dos listas: `cities` y `populations` como antes.  \n",
    "Construye un diccionario usando Dictionary Comprehension y `zip`, pero solo incluye las ciudades cuya población sea mayor a 5.000.000.  \n",
    "Ejemplo de retorno: `{'London': 9000000, 'Berlin': 3500000}`"
   ]
  },
  {
   "cell_type": "code",
   "execution_count": 5,
   "id": "09d2c551",
   "metadata": {},
   "outputs": [
    {
     "name": "stdout",
     "output_type": "stream",
     "text": [
      "{'London': 5183350, 'Berlin': 8219721, 'Sydney': 8126350}\n"
     ]
    }
   ],
   "source": [
    "# Ejercicio 3:\n",
    "import random\n",
    "def cities_population_dict() -> dict:\n",
    "    cities: list = ['London','Paris', 'Berlin',\n",
    "                    'Rome', 'Tokyo', 'New York',\n",
    "                    'Buenos Aires', 'Sydney']\n",
    "    populations: list = [random.randint(1000000, 9000000), random.randint(1000000, 9000000),\n",
    "                          random.randint(1000000, 9000000), random.randint(1000000, 9000000),\n",
    "                          random.randint(1000000, 9000000), random.randint(1000000, 9000000), \n",
    "                          random.randint(1000000, 9000000), random.randint(1000000, 9000000)]\n",
    "    return {citie: population for citie, population in zip(cities, populations) if population > 5000000}\n",
    "print(cities_population_dict())"
   ]
  }
 ],
 "metadata": {
  "kernelspec": {
   "display_name": "Python 3",
   "language": "python",
   "name": "python3"
  },
  "language_info": {
   "codemirror_mode": {
    "name": "ipython",
    "version": 3
   },
   "file_extension": ".py",
   "mimetype": "text/x-python",
   "name": "python",
   "nbconvert_exporter": "python",
   "pygments_lexer": "ipython3",
   "version": "3.12.4"
  }
 },
 "nbformat": 4,
 "nbformat_minor": 5
}
