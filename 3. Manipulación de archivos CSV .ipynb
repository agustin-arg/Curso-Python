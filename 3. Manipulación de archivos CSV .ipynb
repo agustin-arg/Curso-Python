{
 "cells": [
  {
   "cell_type": "markdown",
   "id": "96ae6d5f",
   "metadata": {},
   "source": [
    "# Ejercicio 1: csv.reader – Leer CSV fila por fila como listas\n",
    "\n",
    "## Descripción\n",
    "Dado el archivo `alumnos.csv` con el contenido:\n",
    "\n",
    "```\n",
    "nombre,edad,curso\n",
    "Juan,20,Python\n",
    "Ana,22,Java\n",
    "Luis,19,JavaScript\n",
    "```\n",
    "\n",
    "## Consigna\n",
    "Lee el archivo y muestra cada fila como una lista."
   ]
  },
  {
   "cell_type": "code",
   "execution_count": 15,
   "id": "c45e4f46",
   "metadata": {},
   "outputs": [
    {
     "name": "stdout",
     "output_type": "stream",
     "text": [
      "['nombre', 'edad', 'curso']\n",
      "['Juan', '20', 'Python']\n",
      "['Ana', '22', 'Java']\n",
      "['Luis', '19', 'JavaScript']\n"
     ]
    }
   ],
   "source": [
    "import csv\n",
    "content = ('''nombre,edad,curso\n",
    "Juan,20,Python\n",
    "Ana,22,Java\n",
    "Luis,19,JavaScript''')\n",
    "list = [i.split(',') for i in content.split('\\n')]\n",
    "with open('ejercicio1.csv',mode='w',newline='') as newfile:\n",
    "    writer=csv.writer(newfile)\n",
    "    writer.writerows(list)\n",
    "with open('ejercicio1.csv',mode='r',newline='') as file:\n",
    "    read=csv.reader(file)\n",
    "    for row in read:\n",
    "        print (row)"
   ]
  },
  {
   "cell_type": "markdown",
   "id": "60978271",
   "metadata": {},
   "source": [
    "# Ejercicio 2: csv.writer – Escribir filas en el archivo CSV usando listas\n",
    "\n",
    "## Descripción\n",
    "Crea un archivo llamado `frutas.csv` con las siguientes filas:\n",
    "\n",
    "```\n",
    "fruta,color\n",
    "manzana,rojo\n",
    "banana,amarillo\n",
    "uva,morado\n",
    "```\n",
    "\n",
    "## Consigna\n",
    "Usa `csv.writer` para escribir estas filas."
   ]
  },
  {
   "cell_type": "code",
   "execution_count": 1,
   "id": "bf5937f7",
   "metadata": {},
   "outputs": [
    {
     "name": "stdout",
     "output_type": "stream",
     "text": [
      "['fruta', 'color']\n",
      "['manzana', 'rojo']\n",
      "['banana', 'amarillo']\n",
      "['uva', 'morado']\n"
     ]
    }
   ],
   "source": [
    "import csv\n",
    "text = ('''fruta,color\n",
    "manzana,rojo\n",
    "banana,amarillo\n",
    "uva,morado''')\n",
    "list= text.split('\\n')\n",
    "with open('ejercicio2.csv', mode='w', newline='') as newfile:\n",
    "    writer = csv.writer(newfile)\n",
    "    for i in list:\n",
    "        row = i.split(',')\n",
    "        writer.writerow(row)\n",
    "with open('ejercicio2.csv',mode='r',newline='') as file:\n",
    "    read=csv.reader(file)\n",
    "    for i in read:\n",
    "        print (i)"
   ]
  },
  {
   "cell_type": "markdown",
   "id": "af17ddb6",
   "metadata": {},
   "source": [
    "# Ejercicio 3: csv.DictReader – Leer CSV y devolver cada fila como diccionario\n",
    "\n",
    "## Descripción\n",
    "Lee el archivo `frutas.csv` que creaste antes y muestra cada fila como diccionario.\n",
    "\n",
    "## Consigna\n",
    "Utiliza `csv.DictReader` para leer el archivo y mostrar cada fila como un diccionario.\n",
    "\n",
    "```"
   ]
  },
  {
   "cell_type": "code",
   "execution_count": 2,
   "id": "be2fe796",
   "metadata": {},
   "outputs": [
    {
     "name": "stdout",
     "output_type": "stream",
     "text": [
      "{'fruta': 'manzana', 'color': 'rojo'}\n",
      "{'fruta': 'banana', 'color': 'amarillo'}\n",
      "{'fruta': 'uva', 'color': 'morado'}\n"
     ]
    }
   ],
   "source": [
    "import csv\n",
    "text = ('''fruta,color\n",
    "manzana,rojo\n",
    "banana,amarillo\n",
    "uva,morado''')\n",
    "list= text.split('\\n')\n",
    "with open('ejercicio3.csv', mode='w', newline='') as newfile:\n",
    "    writer = csv.writer(newfile)\n",
    "    for i in list:\n",
    "        row = i.split(',')\n",
    "        writer.writerow(row)\n",
    "with open('ejercicio3.csv',mode='r',newline='') as file:\n",
    "    read=csv.DictReader(file)\n",
    "    for i in read:\n",
    "        print (i)\n",
    "    []"
   ]
  },
  {
   "cell_type": "markdown",
   "id": "c3714459",
   "metadata": {},
   "source": [
    "# Ejercicio 4: csv.DictWriter – Escribir filas en el archivo CSV usando diccionarios\n",
    "\n",
    "## Descripción\n",
    "Crea un archivo llamado `productos.csv` y escribe las siguientes filas usando diccionarios:\n",
    "\n",
    "```\n",
    "nombre,precio,cantidad\n",
    "lápiz,10,100\n",
    "cuaderno,50,40\n",
    "mochila,300,10\n",
    "```\n",
    "\n",
    "## Consigna\n",
    "Usa `csv.DictWriter` para escribir las filas.\n",
    "```"
   ]
  },
  {
   "cell_type": "code",
   "execution_count": null,
   "id": "b4df6633",
   "metadata": {},
   "outputs": [],
   "source": [
    "import csv\n",
    "text = '''nombre,precio,cantidad\n",
    "lápiz,10,100\n",
    "cuaderno,50,40\n",
    "mochila,300,10'''\n",
    "with open(\"ejercicio4.csv\", mode=\"w\", newline='')as file:\n",
    "    \n",
    "    "
   ]
  }
 ],
 "metadata": {
  "kernelspec": {
   "display_name": "Python 3",
   "language": "python",
   "name": "python3"
  },
  "language_info": {
   "codemirror_mode": {
    "name": "ipython",
    "version": 3
   },
   "file_extension": ".py",
   "mimetype": "text/x-python",
   "name": "python",
   "nbconvert_exporter": "python",
   "pygments_lexer": "ipython3",
   "version": "3.12.4"
  }
 },
 "nbformat": 4,
 "nbformat_minor": 5
}
