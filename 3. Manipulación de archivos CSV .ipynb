{
 "cells": [
  {
   "cell_type": "code",
   "execution_count": 8,
   "id": "d9280254",
   "metadata": {},
   "outputs": [],
   "source": [
    "import csv\n",
    "\n",
    "new_product = {\n",
    "    'name': 'Wireless Charger',\n",
    "    'price': 75,\n",
    "    'quantity': 100,\n",
    "    'brand': 'ChargerMaster',\n",
    "    'category': 'Accessories',\n",
    "    'entry_date': '2024-07-01'\n",
    "}\n",
    "\n",
    "with open('products.csv', mode='a', newline='') as file:\n",
    "    file.write('\\n')\n",
    "    csv_writer = csv. DictWriter(file, fieldnames = new_product.keys())\n",
    "    csv_writer.writerow(new_product)"
   ]
  }
 ],
 "metadata": {
  "kernelspec": {
   "display_name": "Python 3",
   "language": "python",
   "name": "python3"
  },
  "language_info": {
   "codemirror_mode": {
    "name": "ipython",
    "version": 3
   },
   "file_extension": ".py",
   "mimetype": "text/x-python",
   "name": "python",
   "nbconvert_exporter": "python",
   "pygments_lexer": "ipython3",
   "version": "3.12.4"
  }
 },
 "nbformat": 4,
 "nbformat_minor": 5
}
