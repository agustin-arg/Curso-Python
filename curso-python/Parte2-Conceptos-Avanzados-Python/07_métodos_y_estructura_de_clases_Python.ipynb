{
 "cells": [
  {
   "cell_type": "markdown",
   "id": "55b89c43",
   "metadata": {},
   "source": [
    "#### Ejercicio 1: Métodos Mágicos Básicos – `__str__`, `__repr__`\n",
    "\n",
    "Crea una clase llamada `Book` con los atributos `title`, `author` y `year`.  \n",
    "Implementa los métodos mágicos `__str__` y `__repr__` para mostrar la información del libro de manera legible y oficial, respectivamente."
   ]
  },
  {
   "cell_type": "code",
   "execution_count": 4,
   "id": "48494245",
   "metadata": {},
   "outputs": [
    {
     "name": "stdout",
     "output_type": "stream",
     "text": [
      "title: The Richest Man in Babylon, author: George S. Clason, year: 1926\n",
      "Book(title=\"The Richest Man in Babylon\", author=\"George S. Clason\", year=1926)\n"
     ]
    }
   ],
   "source": [
    "#Desarrollo:\n",
    "class Book():\n",
    "    def __init__(self, title: str, author: str, year: int):\n",
    "        self.title: str = title\n",
    "        self.author: str = author\n",
    "        self.year: int = year\n",
    "    \n",
    "    def __str__(self) -> str:\n",
    "        return f'title: {self.title}, author: {self.author}, year: {self.year}'\n",
    "    \n",
    "    def __repr__(self):\n",
    "        return f'Book(title=\"{self.title}\", author=\"{self.author}\", year={self.year})'\n",
    "    \n",
    "Classic_finance_book = Book('The Richest Man in Babylon', 'George S. Clason', 1926)\n",
    "\n",
    "print(Classic_finance_book)\n",
    "print(repr(Classic_finance_book))\n"
   ]
  },
  {
   "cell_type": "markdown",
   "id": "d03ad6ab",
   "metadata": {},
   "source": [
    "#### Ejercicio 2: Comparación y Suma de Objetos – `__eq__`, `__lt__`, `__add__`\n",
    "\n",
    "Amplía la clase `Book` del ejercicio anterior para que:\n",
    "- Dos libros se consideren iguales (`==`) si tienen el mismo título y autor.\n",
    "- Un libro sea considerado \"menor\" que otro (`<`) si fue publicado antes.\n",
    "- Al sumar dos libros (`+`), obtengas un nuevo libro con título y autor concatenados y el año promedio."
   ]
  },
  {
   "cell_type": "code",
   "execution_count": 31,
   "id": "a1f3ac52",
   "metadata": {},
   "outputs": [
    {
     "name": "stdout",
     "output_type": "stream",
     "text": [
      "True\n",
      "True\n",
      "Book(title=\"The Richest Man in Babylon , Rich Dad Poor Dad\", author=\"George S. Clason , Robert Kiyosaki & Sharon Lechter\", year=1961)\n"
     ]
    }
   ],
   "source": [
    "#Desarrollo:\n",
    "class Book():\n",
    "    def __init__(self, title: str, author: str, year: int):\n",
    "        self.title: str = title\n",
    "        self.author: str = author\n",
    "        self.year: int = year\n",
    "    \n",
    "    def __str__(self) -> str:\n",
    "        return f'title: {self.title}, author: {self.author}, year: {self.year}'\n",
    "    \n",
    "    def __repr__(self):\n",
    "        return f'Book(title=\"{self.title}\", author=\"{self.author}\", year={self.year})'\n",
    "    \n",
    "    def __eq__(self, value: Book) -> bool:\n",
    "        if not isinstance(value, Book):\n",
    "            raise TypeError('Error: el argumento no es una instancia de Book')\n",
    "        return self.title == value.title and self.author == value.author\n",
    "    \n",
    "    def __lt__(self, value: Book) -> bool:\n",
    "        if not isinstance(value, Book):\n",
    "            raise TypeError('Error: el argumento no es una instancia de Book')\n",
    "        return self.year < value.year\n",
    "    \n",
    "    def __add__(self, value: Book) -> Book:\n",
    "        if not isinstance(value, Book):\n",
    "            raise TypeError('Error: el argumento no es una instancia de Book')\n",
    "        names = self.title + ' , ' + value.title\n",
    "        authors =  self.author + ' , ' + value.author\n",
    "        years = int((self.year + value.year)/2)\n",
    "        return Book(names, authors, years)\n",
    "    \n",
    "    \n",
    "Classic_finance_book = Book('The Richest Man in Babylon', 'George S. Clason', 1926)\n",
    "Modern_finance_book = Book('Rich Dad Poor Dad', 'Robert Kiyosaki & Sharon Lechter', 1997)\n",
    "new_edition_finance_book = Book('The Richest Man in Babylon', 'George S. Clason', 2021)\n",
    "finance_book_collection = Classic_finance_book + Modern_finance_book\n",
    "\n",
    "print(Classic_finance_book == new_edition_finance_book)\n",
    "print(Classic_finance_book < new_edition_finance_book)\n",
    "print(repr(finance_book_collection))"
   ]
  },
  {
   "cell_type": "markdown",
   "id": "ff6a5001",
   "metadata": {},
   "source": [
    "#### Ejercicio 3: Ejecución Condicional con `if __name__ == '__main__'`\n",
    "\n",
    "Crea un archivo llamado `book_utils.py` que contenga una función `print_books_info(books)` que recibe una lista de objetos `Book` y los imprime.  \n",
    "Asegúrate que esta función sólo se ejecute si el archivo se corre directamente (no al importarlo desde otro lado).  \n",
    "En tu archivo `.ipynb`, muestra cómo importar el archivo y usar la función."
   ]
  },
  {
   "cell_type": "code",
   "execution_count": 2,
   "id": "5b7da135",
   "metadata": {},
   "outputs": [
    {
     "name": "stdout",
     "output_type": "stream",
     "text": [
      "title: The Richest Man in Babylon, author: George S. Clason, year: 1926\n",
      "title: Rich Dad Poor Dad, author: Robert Kiyosaki & Sharon Lechter, year: 1997\n"
     ]
    }
   ],
   "source": [
    "#Desarrollo:\n",
    "from book_utils import Book, print_books_info\n",
    "\n",
    "\n",
    "my_books = [\n",
    "    Book('The Richest Man in Babylon', 'George S. Clason', 1926),\n",
    "    Book('Rich Dad Poor Dad', 'Robert Kiyosaki & Sharon Lechter', 1997)\n",
    "]\n",
    "\n",
    "\n",
    "print_books_info(my_books)\n"
   ]
  },
  {
   "cell_type": "markdown",
   "id": "df74c907",
   "metadata": {},
   "source": [
    "#### Ejercicio 4: Metaprogramación – `__new__`, `__init__`, `__call__`\n",
    "\n",
    "Crea una clase llamada `Counter` que:\n",
    "- Use `__new__` para imprimir \"Creating instance...\" cuando se está creando la instancia.\n",
    "- Use `__init__` para inicializar un atributo `value` con un número inicial.\n",
    "- Use `__call__` para incrementar el valor por la cantidad que se le pase como argumento y retorne el nuevo valor."
   ]
  },
  {
   "cell_type": "code",
   "execution_count": null,
   "id": "bf477d16",
   "metadata": {},
   "outputs": [
    {
     "name": "stdout",
     "output_type": "stream",
     "text": [
      "Creating instance...\n",
      "3\n"
     ]
    }
   ],
   "source": [
    "#Desarrollo:\n",
    "class Counter():\n",
    "    def __new__(cls,num):\n",
    "        print('Creating instance...')\n",
    "        return super(Counter, cls).__new__(cls)\n",
    "    def __init__(self, num):\n",
    "        self.value = num\n",
    "    def __call__(self, num: int) -> int:\n",
    "        if not isinstance(num, int):\n",
    "            raise TypeError('Error: El valor debe ser de tipo entero')\n",
    "        self.value += num\n",
    "        return self.value\n",
    "        \n",
    "\n",
    "number = Counter(1)\n",
    "print(number(2))"
   ]
  },
  {
   "cell_type": "markdown",
   "id": "ee357075",
   "metadata": {},
   "source": [
    "#### Ejercicio 5: Uso de *args y **kwargs\n",
    "\n",
    "Crea una función llamada `create_books(*args, **kwargs)` que permita crear múltiples instancias de `Book` usando argumentos posicionales y nombrados.  \n",
    "Ejemplo:  \n",
    "`create_books((\"Title1\", \"Author1\", 2001), (\"Title2\", \"Author2\", 2008), year=2020)`  \n",
    "La función debe retornar una lista de objetos `Book`."
   ]
  },
  {
   "cell_type": "code",
   "execution_count": 45,
   "id": "7aed7b93",
   "metadata": {},
   "outputs": [
    {
     "name": "stdout",
     "output_type": "stream",
     "text": [
      "[Book(title=\"Title1\", author=\"Author1\", year=2001), Book(title=\"Title2\", author=\"Author2\", year=2008), Book(title=\"Title3\", author=\"Author3\", year=2020)]\n"
     ]
    }
   ],
   "source": [
    "#Desarrollo:\n",
    "class Book():\n",
    "    def __init__(self, title: str, author: str, year: int):\n",
    "        self.title: str = title\n",
    "        self.author: str = author\n",
    "        self.year: int = year\n",
    "    \n",
    "    def __str__(self) -> str:\n",
    "        return f'title: {self.title}, author: {self.author}, year: {self.year}'\n",
    "    \n",
    "    def __repr__(self):\n",
    "        return f'Book(title=\"{self.title}\", author=\"{self.author}\", year={self.year})'\n",
    "    \n",
    "\n",
    "def create_books(*args, **kwargs)-> list:\n",
    "    list_book = []\n",
    "    for book in args:\n",
    "        list_book.append(Book(book[0], book[1], book[2]))\n",
    "    if 'title' in kwargs and 'author' in kwargs and 'year' in kwargs:\n",
    "        list_book.append(Book(kwargs['title'], kwargs['author'], kwargs['year']))\n",
    "    return list_book\n",
    "            \n",
    "books = create_books((\"Title1\", \"Author1\", 2001), (\"Title2\", \"Author2\", 2008),title=\"Title3\", author=\"Author3\", year=2020)\n",
    "print(books)\n",
    "        "
   ]
  },
  {
   "cell_type": "markdown",
   "id": "adf4381f",
   "metadata": {},
   "source": [
    "#### Ejercicio 6: Métodos y Atributos Privados y Protegidos\n",
    "\n",
    "Modifica la clase `Book` para agregar:\n",
    "- Un atributo protegido `_edition` (número de edición)\n",
    "- Un atributo privado `__isbn` (número ISBN)\n",
    "Implementa métodos para modificar y acceder ambos atributos respetando sus niveles de protección."
   ]
  },
  {
   "cell_type": "code",
   "execution_count": null,
   "id": "8b3ba46e",
   "metadata": {},
   "outputs": [
    {
     "name": "stdout",
     "output_type": "stream",
     "text": [
      "title: The Richest Man in Babylon, author: George S. Clason, year: 2021\n",
      "Book(title=\"The Richest Man in Babylon\", author=\"George S. Clason\", year=2021, edition=46)\n",
      "66335599\n",
      "46\n",
      "55224488\n",
      "21\n"
     ]
    }
   ],
   "source": [
    "#Desarrollo:\n",
    "class Book():\n",
    "    def __init__(self, title: str, author: str, year: int, edition: int, isbn: int):\n",
    "        self.title: str = title\n",
    "        self.author: str = author\n",
    "        self.year: int = year\n",
    "        self._edition: int = edition\n",
    "        self.__isbn: int = isbn\n",
    "    \n",
    "    def __str__(self) -> str:\n",
    "        return f'title: {self.title}, author: {self.author}, year: {self.year}'\n",
    "    \n",
    "    def __repr__(self) ->str:\n",
    "        return f'Book(title=\"{self.title}\", author=\"{self.author}\", year={self.year}, edition={self._edition})'\n",
    "    \n",
    "    def get_edition(self) ->int:\n",
    "        return self._edition\n",
    "    \n",
    "    def set_edition(self, value: int):\n",
    "        self._edition = value\n",
    "    \n",
    "    def get_isbn(self) ->int:\n",
    "        return self.__isbn\n",
    "    \n",
    "    def set_isbn(self, value: int):\n",
    "        self.__isbn = value\n",
    "    \n",
    "    \n",
    "new_edition_finance_book = Book('The Richest Man in Babylon', 'George S. Clason', 2021, 46, 66335599)\n",
    "\n",
    "print(new_edition_finance_book)\n",
    "print(repr(new_edition_finance_book))\n",
    "print(new_edition_finance_book.get_isbn())\n",
    "print(new_edition_finance_book.get_edition())\n",
    "new_edition_finance_book.set_edition(21)\n",
    "new_edition_finance_book.set_isbn(55224488)\n",
    "print(new_edition_finance_book.get_isbn())\n",
    "print(new_edition_finance_book.get_edition())\n"
   ]
  },
  {
   "cell_type": "markdown",
   "id": "aaba3c6c",
   "metadata": {},
   "source": [
    "#### Ejercicio 7: Uso de Property – Getter, Setter, Deleter\n",
    "\n",
    "Agrega a la clase `Book` una propiedad llamada `isbn` que permita:\n",
    "- Obtener el valor del ISBN.\n",
    "- Modificar el valor del ISBN solo si tiene 13 dígitos.\n",
    "- Eliminar el ISBN (dejarlo como `None`)."
   ]
  },
  {
   "cell_type": "code",
   "execution_count": 41,
   "id": "1939e247",
   "metadata": {},
   "outputs": [
    {
     "name": "stdout",
     "output_type": "stream",
     "text": [
      "5566449977885\n",
      "7733664499771\n",
      "None\n"
     ]
    }
   ],
   "source": [
    "#Desarrollo:\n",
    "class Book():\n",
    "    def __init__(self, title: str, author: str, year: int, edition: int, isbn: int):\n",
    "        self.title: str = title\n",
    "        self.author: str = author\n",
    "        self.year: int = year\n",
    "        self._edition: int = edition\n",
    "        self._isbn: int = isbn\n",
    "    \n",
    "    def __str__(self) -> str:\n",
    "        return f'title: {self.title}, author: {self.author}, year: {self.year}'\n",
    "    \n",
    "    def __repr__(self) -> str:\n",
    "        return f'Book(title=\"{self.title}\", author=\"{self.author}\", year={self.year}, edition={self._edition})'\n",
    "    \n",
    "    @property\n",
    "    def isbn(self) -> int:\n",
    "        return self._isbn\n",
    "    \n",
    "    @isbn.setter\n",
    "    def isbn(self, value: int):\n",
    "        if len(str(value)) != 13:\n",
    "            raise ValueError('Error: el valor debe ser de 13 digitos')\n",
    "        elif not isinstance(value, int):\n",
    "            raise TypeError('Error: el valor debe ser de tipo entero')\n",
    "        else:\n",
    "            self._isbn = value\n",
    "    \n",
    "    @isbn.deleter\n",
    "    def isbn(self):\n",
    "        self._isbn = None\n",
    "\n",
    "new_edition_finance_book = Book('The Richest Man in Babylon', 'George S. Clason', 2021, 46, 5566449977885)\n",
    "print(new_edition_finance_book.isbn)\n",
    "new_edition_finance_book.isbn = 7733664499771\n",
    "print(new_edition_finance_book.isbn)\n",
    "del(new_edition_finance_book.isbn)\n",
    "print(new_edition_finance_book._isbn)"
   ]
  },
  {
   "cell_type": "markdown",
   "id": "1a4e229a",
   "metadata": {},
   "source": [
    "#### Ejercicio 8: Métodos Estáticos y de Clase\n",
    "\n",
    "Agrega a la clase `Book`:\n",
    "- Un método estático `is_valid_isbn(isbn)` que retorne True si el ISBN tiene 13 dígitos.\n",
    "- Un método de clase `from_string(book_str)` que reciba una cadena `\"Title,Author,Year\"` y retorne un objeto `Book`."
   ]
  },
  {
   "cell_type": "code",
   "execution_count": 40,
   "id": "8274f739",
   "metadata": {},
   "outputs": [
    {
     "name": "stdout",
     "output_type": "stream",
     "text": [
      "True\n",
      "title: Title1, author: Author1, year: 2000\n"
     ]
    }
   ],
   "source": [
    "#Desarrollo:\n",
    "\n",
    "class Book():\n",
    "    @staticmethod\n",
    "    def is_valid_isbn(value: int)-> bool:\n",
    "        if not isinstance(value, int):\n",
    "            raise TypeError('Error: el valor debe ser de tipo entero')\n",
    "        elif len(str(value)) != 13:\n",
    "            raise ValueError('Error: el valor debe ser de 13 digitos')\n",
    "        else:\n",
    "            return True\n",
    "        \n",
    "    @classmethod\n",
    "    def from_string(cls, book_str:str )-> Book:\n",
    "        value = book_str.split(',')\n",
    "        return Book(value[0], value[1], int(value[2]))\n",
    "        \n",
    "    def __init__(self, title: str, author: str, year: int):\n",
    "        self.title: str = title\n",
    "        self.author: str = author\n",
    "        self.year: int = year\n",
    "    \n",
    "    def __str__(self) -> str:\n",
    "        return f'title: {self.title}, author: {self.author}, year: {self.year}'\n",
    "    \n",
    "    def __repr__(self) -> str:\n",
    "        return f'Book(title=\"{self.title}\", author=\"{self.author}\", year={self.year}, isbn={self._isbn})'\n",
    "    \n",
    "print(Book.is_valid_isbn(4422113366445))\n",
    "book1 = Book.from_string('Title1,Author1,2000')\n",
    "print(book1)"
   ]
  },
  {
   "cell_type": "markdown",
   "id": "82d2fe9a",
   "metadata": {},
   "source": [
    "#### Ejercicio 9: Actividad Integradora\n",
    "\n",
    "Crea una clase `Library` que permita almacenar objetos `Book` y realizar las siguientes operaciones:\n",
    "- Agregar y eliminar libros.\n",
    "- Buscar libros por autor.\n",
    "- Obtener todos los libros ordenados por año.\n",
    "Utiliza, según lo creas conveniente, los métodos mágicos, propiedades, métodos estáticos/de clase, protección de atributos, etc.\n",
    "\n",
    "**No se indica cómo resolverlo ni qué métodos usar. Elige cómo hacerlo usando lo aprendido.**"
   ]
  },
  {
   "cell_type": "code",
   "execution_count": null,
   "id": "459be54b",
   "metadata": {},
   "outputs": [],
   "source": [
    "#Desarrollo:"
   ]
  }
 ],
 "metadata": {
  "kernelspec": {
   "display_name": "Python 3",
   "language": "python",
   "name": "python3"
  },
  "language_info": {
   "codemirror_mode": {
    "name": "ipython",
    "version": 3
   },
   "file_extension": ".py",
   "mimetype": "text/x-python",
   "name": "python",
   "nbconvert_exporter": "python",
   "pygments_lexer": "ipython3",
   "version": "3.12.4"
  }
 },
 "nbformat": 4,
 "nbformat_minor": 5
}
